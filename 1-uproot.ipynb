{
 "cells": [
  {
   "cell_type": "markdown",
   "id": "2d4444c8-b5cf-40eb-984c-2e37c971943b",
   "metadata": {},
   "source": [
    "# Using Uproot effectively"
   ]
  },
  {
   "cell_type": "markdown",
   "id": "427bdfa4-38ee-4529-a10d-96b95e2116ce",
   "metadata": {},
   "source": [
    "### If you're joining this tutorial live:\n",
    "\n",
    "   1. Open this notebook in Binder or on your own computer (see [GitHub README](https://github.com/jpivarski-talks/2021-06-14-uproot-awkward-columnar-hats#readme)). If you have any troubles with installation or uninstalled libraries, switch to Binder.\n",
    "   2. Open the Sli.do link that I'm sharing on the screen. This allows you to ask questions at any time, anonymously if you want.\n",
    "   3. Evaluate the cells in the notebook along with me. I will frequently take detours, changing the input cells in real time. **Try out variations yourself, and ask questions at any time.**\n",
    "\n",
    "Consider this a tour and I'm your tour guide. The notebook is a planned route to get things started, but your questions and wayfaring are more important."
   ]
  },
  {
   "cell_type": "markdown",
   "id": "a4ceffdc-723b-4a00-abb0-0fa934454b11",
   "metadata": {},
   "source": [
    "### If you're reading this tutorial online or watching a video:\n",
    "\n",
    "   * There's a directory of evaluated notebooks [in GitHub](https://github.com/jpivarski-talks/2021-06-14-uproot-awkward-columnar-hats), so you don't need to use Binder to see the cell output, but it's \"canned,\" it doesn't include the experiments we tried on the day of the tutorial.\n",
    "   * There are other tutorials on this subject. A very similar tutorial to this one will be presented at [PyHEP 2021](https://indico.cern.ch/event/1019958/) (July 5‒9, 2021). If that's in the future, join us! If that's in the past, the video is on YouTube."
   ]
  },
  {
   "cell_type": "markdown",
   "id": "e47f7209-b5a5-4fe4-a041-08b7ed0c8dff",
   "metadata": {},
   "source": [
    "## Python and Pythonic analysis tools (NumPy, Matplotlib, Pandas, etc.) are mainstream"
   ]
  },
  {
   "cell_type": "markdown",
   "id": "c7982e19-a16a-4b6b-8e83-91274790e64c",
   "metadata": {},
   "source": [
    "This is an analysis of GitHub repos created by CMS physicists (i.e. \"everyone who forked cms-sw/cmssw\").\n",
    "\n",
    "GitHub labels these repos as C/C++, Python, or Jupyter: the Python and Jupyter categories are now the most common.\n",
    "\n",
    "<img src=\"img/lhlhc-github-languages.svg\" style=\"width: 800px\">"
   ]
  },
  {
   "cell_type": "markdown",
   "id": "0507898f-8f03-47a9-b02f-9b33c33b1b22",
   "metadata": {},
   "source": [
    "Furthermore, if we search for strings inside these repos, words like \"`numpy`\" are found in more repos than words like \"`TFile`\" (proxy for ROOT).\n",
    "\n",
    "`\"uproot\"` is also fairly common, but not as much as the likes of NumPy and ROOT.\n",
    "\n",
    "<img src=\"img/lhlhc-github-overlay-lin.svg\" style=\"width: 800px\">"
   ]
  },
  {
   "cell_type": "markdown",
   "id": "ddce0fa9-e129-403f-b7c9-2eee8c34f7e8",
   "metadata": {},
   "source": [
    "We also asked questions about this at last year's PyHEP workshop (408 respondents, about 90 in CMS).\n",
    "\n",
    "You use Python about equally with C++, and primarily for analysis (not just machine learning).\n",
    "\n",
    "<img src=\"img/pyhep2020-survey-5.svg\" style=\"width: 80%\">"
   ]
  },
  {
   "cell_type": "markdown",
   "id": "8ab05baf-721a-467e-ab29-feb41d46cf6a",
   "metadata": {},
   "source": [
    "## Some general things about Python\n",
    "\n",
    "   1. Python is fun and easy.\n",
    "   2. Python is slow."
   ]
  },
  {
   "cell_type": "code",
   "execution_count": null,
   "id": "73e240fe-2e64-4132-b7a8-617b57b11c7d",
   "metadata": {},
   "outputs": [],
   "source": []
  }
 ],
 "metadata": {
  "kernelspec": {
   "display_name": "Python 3",
   "language": "python",
   "name": "python3"
  },
  "language_info": {
   "codemirror_mode": {
    "name": "ipython",
    "version": 3
   },
   "file_extension": ".py",
   "mimetype": "text/x-python",
   "name": "python",
   "nbconvert_exporter": "python",
   "pygments_lexer": "ipython3",
   "version": "3.8.10"
  }
 },
 "nbformat": 4,
 "nbformat_minor": 5
}
