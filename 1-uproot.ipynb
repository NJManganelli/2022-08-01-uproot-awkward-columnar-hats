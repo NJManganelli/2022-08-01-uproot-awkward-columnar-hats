{
 "cells": [
  {
   "cell_type": "markdown",
   "id": "2d4444c8-b5cf-40eb-984c-2e37c971943b",
   "metadata": {},
   "source": [
    "# Using Uproot effectively"
   ]
  },
  {
   "cell_type": "markdown",
   "id": "427bdfa4-38ee-4529-a10d-96b95e2116ce",
   "metadata": {},
   "source": [
    "### If you're joining this tutorial live:\n",
    "\n",
    "   1. Open this notebook in Binder or on your own computer (see [GitHub README](https://github.com/jpivarski-talks/2021-06-14-uproot-awkward-columnar-hats#readme)). If you have any troubles with installation or uninstalled libraries, switch to Binder.\n",
    "   2. Open the Sli.do link that I'm sharing on the screen. This allows you to ask questions at any time, anonymously if you want.\n",
    "   3. Evaluate the cells in the notebook along with me. I will frequently take detours, changing the input cells in real time. **Try out variations yourself, and ask questions at any time.**\n",
    "\n",
    "Consider this a tour and I'm your tour guide. The notebook is a planned route to get things started, but your questions and wayfaring are more important."
   ]
  },
  {
   "cell_type": "markdown",
   "id": "a4ceffdc-723b-4a00-abb0-0fa934454b11",
   "metadata": {},
   "source": [
    "### If you're reading this tutorial online or watching a video:\n",
    "\n",
    "   * There's a directory of evaluated notebooks [in GitHub](https://github.com/jpivarski-talks/2021-06-14-uproot-awkward-columnar-hats), so you don't need to use Binder to see the cell output, but it's \"canned,\" it doesn't include the experiments we tried on the day of the tutorial.\n",
    "   * There are other tutorials on this subject. A very similar tutorial to this one will be presented at [PyHEP 2021](https://indico.cern.ch/event/1019958/) (July 5‒9, 2021). If that's in the future, join us! If that's in the past, the video is on YouTube."
   ]
  },
  {
   "cell_type": "markdown",
   "id": "e47f7209-b5a5-4fe4-a041-08b7ed0c8dff",
   "metadata": {},
   "source": [
    "## Python and Pythonic analysis tools (NumPy, Matplotlib, Pandas, etc.) are mainstream"
   ]
  },
  {
   "cell_type": "markdown",
   "id": "c7982e19-a16a-4b6b-8e83-91274790e64c",
   "metadata": {},
   "source": [
    "This is an analysis of GitHub repos created by CMS physicists (i.e. \"everyone who forked cms-sw/cmssw\").\n",
    "\n",
    "GitHub labels these repos as C/C++, Python, or Jupyter: the Python and Jupyter categories are now the most common.\n",
    "\n",
    "<img src=\"img/lhlhc-github-languages.svg\" style=\"width: 800px\">"
   ]
  },
  {
   "cell_type": "markdown",
   "id": "0507898f-8f03-47a9-b02f-9b33c33b1b22",
   "metadata": {},
   "source": [
    "Furthermore, if we search for strings inside these repos, words like \"`numpy`\" are found in more repos than words like \"`TFile`\" (proxy for ROOT).\n",
    "\n",
    "`\"uproot\"` is also fairly common, but not as much as the likes of NumPy and ROOT.\n",
    "\n",
    "<img src=\"img/lhlhc-github-overlay-lin.svg\" style=\"width: 800px\">"
   ]
  },
  {
   "cell_type": "markdown",
   "id": "ddce0fa9-e129-403f-b7c9-2eee8c34f7e8",
   "metadata": {},
   "source": [
    "We also asked questions about this at last year's PyHEP workshop (408 respondents, about 90 in CMS).\n",
    "\n",
    "You use Python about equally with C++, and primarily for analysis (not just machine learning).\n",
    "\n",
    "<img src=\"img/pyhep2020-survey-5.svg\" style=\"width: 80%\">"
   ]
  },
  {
   "cell_type": "markdown",
   "id": "8ab05baf-721a-467e-ab29-feb41d46cf6a",
   "metadata": {},
   "source": [
    "## Some general things about Python\n",
    "\n",
    "   1. Python is fun and easy.\n",
    "   2. Python is slow."
   ]
  },
  {
   "cell_type": "code",
   "execution_count": null,
   "id": "968c7d21-870f-40cd-a6db-918a1d5f9e63",
   "metadata": {},
   "outputs": [],
   "source": []
  },
  {
   "cell_type": "code",
   "execution_count": null,
   "id": "bbded7b5-8491-4855-950c-61175c8e7705",
   "metadata": {},
   "outputs": [],
   "source": []
  },
  {
   "cell_type": "code",
   "execution_count": null,
   "id": "054eab84-3673-4325-826d-a0f748c52eaa",
   "metadata": {},
   "outputs": [],
   "source": []
  },
  {
   "cell_type": "code",
   "execution_count": null,
   "id": "a9eca8f1-1b86-4478-ad38-59e32a3e3056",
   "metadata": {},
   "outputs": [],
   "source": []
  },
  {
   "cell_type": "code",
   "execution_count": null,
   "id": "1ae24c82-cd3d-488b-a076-d29aba9bb2dd",
   "metadata": {},
   "outputs": [],
   "source": []
  },
  {
   "cell_type": "code",
   "execution_count": null,
   "id": "e2c7743c-af17-45fb-97af-aaff7870fd8a",
   "metadata": {},
   "outputs": [],
   "source": []
  },
  {
   "cell_type": "code",
   "execution_count": null,
   "id": "7afea21a-7621-479c-b39e-4cc8404e9a22",
   "metadata": {},
   "outputs": [],
   "source": []
  },
  {
   "cell_type": "code",
   "execution_count": null,
   "id": "cb4fd69b-fade-4d13-bf14-c8803c84095b",
   "metadata": {},
   "outputs": [],
   "source": []
  },
  {
   "cell_type": "code",
   "execution_count": null,
   "id": "9884369d-60cb-4052-b748-7dcfe69bac82",
   "metadata": {},
   "outputs": [],
   "source": []
  },
  {
   "cell_type": "markdown",
   "id": "8fb79b2b-1074-4ccb-9b10-7cc607cd8dee",
   "metadata": {},
   "source": [
    "## What a ~complete analysis looks like in Python"
   ]
  },
  {
   "cell_type": "code",
   "execution_count": 1,
   "id": "73e240fe-2e64-4132-b7a8-617b57b11c7d",
   "metadata": {},
   "outputs": [],
   "source": [
    "import matplotlib.pyplot as plt\n",
    "import numpy as np\n",
    "import awkward as ak\n",
    "\n",
    "import uproot\n",
    "import hist"
   ]
  },
  {
   "cell_type": "code",
   "execution_count": 2,
   "id": "002f8b6a-ae14-43be-bab7-1cebb3fc67c1",
   "metadata": {},
   "outputs": [],
   "source": [
    "upfile = uproot.open(\"root://eospublic.cern.ch//eos/opendata/cms/derived-data/AOD2NanoAODOutreachTool/Run2012BC_DoubleMuParked_Muons.root\")\n",
    "uptree = upfile[\"Events\"]"
   ]
  },
  {
   "cell_type": "markdown",
   "id": "fea3ab0f-371f-41eb-b561-f89c96d347f4",
   "metadata": {},
   "source": [
    "The general strategy is to get arrays in one function call (usually slow, has to read) and use them interactively afterward."
   ]
  },
  {
   "cell_type": "code",
   "execution_count": 3,
   "id": "70b2a144-b6cb-4d30-bdd9-0cc56bce4379",
   "metadata": {},
   "outputs": [],
   "source": [
    "muons = uptree.arrays([\"Muon_pt\", \"Muon_eta\", \"Muon_phi\", \"Muon_charge\"], cut=\"nMuon >= 2\", how=\"zip\", entry_stop=100000)"
   ]
  },
  {
   "cell_type": "markdown",
   "id": "579fea6c-f7b6-4fcc-9a68-3adab807e3c7",
   "metadata": {},
   "source": [
    "We've already applied an `nMuon >= 2` cut, but we can define additional cuts."
   ]
  },
  {
   "cell_type": "code",
   "execution_count": 18,
   "id": "ff2f64c9-bd11-4227-9ca7-c3c8f01e304d",
   "metadata": {},
   "outputs": [
    {
     "data": {
      "text/plain": [
       "<Array [False, True, False, ... True, True] type='83343 * bool'>"
      ]
     },
     "execution_count": 18,
     "metadata": {},
     "output_type": "execute_result"
    }
   ],
   "source": [
    "os_cut = muons[:, \"Muon\", \"charge\", 0] != muons[:, \"Muon\", \"charge\", 1]\n",
    "os_cut"
   ]
  },
  {
   "cell_type": "markdown",
   "id": "9806eaab-8cec-473d-8d5c-fd04e97a304f",
   "metadata": {},
   "source": [
    "Slicing (to be described in more detail later) can filter and reduce the structure of an array."
   ]
  },
  {
   "cell_type": "code",
   "execution_count": 19,
   "id": "6e588fd2-3f61-43fd-9c69-f9c1a9efa5de",
   "metadata": {},
   "outputs": [
    {
     "data": {
      "text/plain": [
       "<Array [{pt: 10.5, eta: -0.428, ... charge: 1}] type='60216 * {\"pt\": float32, \"e...'>"
      ]
     },
     "execution_count": 19,
     "metadata": {},
     "output_type": "execute_result"
    }
   ],
   "source": [
    "mu1 = muons[os_cut, 0, \"Muon\"]\n",
    "mu2 = muons[os_cut, 1, \"Muon\"]\n",
    "mu1"
   ]
  },
  {
   "cell_type": "markdown",
   "id": "b58cfc7d-57ae-4107-826b-0fbe1bd93f9a",
   "metadata": {},
   "source": [
    "Make a histogram and fill it with a calculation from the array. The mini-plot is just the way this histogram type is visualized in Jupyter."
   ]
  },
  {
   "cell_type": "code",
   "execution_count": 6,
   "id": "e3c16710-82ff-4ef5-b7f8-b2b70afad43e",
   "metadata": {},
   "outputs": [],
   "source": [
    "h1 = hist.Hist.new.Reg(120, 0, 120, name=\"mass\").Double()"
   ]
  },
  {
   "cell_type": "code",
   "execution_count": 7,
   "id": "6bc993fc-4dcf-4b02-ad6c-9e265e3df60c",
   "metadata": {},
   "outputs": [
    {
     "data": {
      "text/html": [
       "<html>\n",
       "<div style=\"display:flex; align-items:center;\">\n",
       "<div style=\"width:290px;\">\n",
       "<svg xmlns=\"http://www.w3.org/2000/svg\" viewBox=\"-10 -105 270 120\">\n",
       "<line x1=\"-5\" y1=\"0\" x2=\"255\" y2=\"0\" style=\"fill:none;stroke-width:2;stroke:currentColor\"/>\n",
       "<text text-anchor=\"middle\" x=\"0\" y=\"15\" style=\"fill:currentColor;\">\n",
       "0\n",
       "</text>\n",
       "<text text-anchor=\"middle\" x=\"250\" y=\"15\" style=\"fill:currentColor;\">\n",
       "120\n",
       "</text>\n",
       "<text text-anchor=\"middle\" x=\"125.0\" y=\"15\" style=\"fill:currentColor;\">\n",
       "mass\n",
       "</text>\n",
       "<polyline points=\"  0,0   0,-78.2 2.08333,-78.2 2.08333,-88.7 4.16667,-88.7 4.16667,-66.7 6.25,-66.7 6.25,-100 8.33333,-100 8.33333,-11.9 10.4167,-11.9 10.4167,-11.2 12.5,-11.2 12.5,-11.2 14.5833,-11.2 14.5833,-10.5 16.6667,-10.5 16.6667,-9.45 18.75,-9.45 18.75,-17.8 20.8333,-17.8 20.8333,-13.8 22.9167,-13.8 22.9167,-8.34  25,-8.34  25,-8.25 27.0833,-8.25 27.0833,-8.74 29.1667,-8.74 29.1667,-8.58 31.25,-8.58 31.25,-8.98 33.3333,-8.98 33.3333,-8.79 35.4167,-8.79 35.4167,-8.84 37.5,-8.84 37.5,-8.04 39.5833,-8.04 39.5833,-8.07 41.6667,-8.07 41.6667,-9.42 43.75,-9.42 43.75,-11.3 45.8333,-11.3 45.8333,-12.9 47.9167,-12.9 47.9167,-13.6  50,-13.6  50,-13.5 52.0833,-13.5 52.0833,-13.7 54.1667,-13.7 54.1667,-14.8 56.25,-14.8 56.25,-14.7 58.3333,-14.7 58.3333,-13.1 60.4167,-13.1 60.4167,-13 62.5,-13 62.5,-11.5 64.5833,-11.5 64.5833,-11.3 66.6667,-11.3 66.6667,-10.3 68.75,-10.3 68.75,-9.95 70.8333,-9.95 70.8333,-8.78 72.9167,-8.78 72.9167,-8.98  75,-8.98  75,-7.98 77.0833,-7.98 77.0833,-7.66 79.1667,-7.66 79.1667,-7.42 81.25,-7.42 81.25,-6.47 83.3333,-6.47 83.3333,-6.34 85.4167,-6.34 85.4167,-5.94 87.5,-5.94 87.5,-5.09 89.5833,-5.09 89.5833,-5.22 91.6667,-5.22 91.6667,-4.64 93.75,-4.64 93.75,-4.52 95.8333,-4.52 95.8333,-4.1 97.9167,-4.1 97.9167,-4.16 100,-4.16 100,-3.6 102.083,-3.6 102.083,-3.59 104.167,-3.59 104.167,-2.98 106.25,-2.98 106.25,-2.88 108.333,-2.88 108.333,-3.12 110.417,-3.12 110.417,-2.98 112.5,-2.98 112.5,-2.39 114.583,-2.39 114.583,-3.16 116.667,-3.16 116.667,-2.53 118.75,-2.53 118.75,-1.59 120.833,-1.59 120.833,-2.02 122.917,-2.02 122.917,-2.07 125,-2.07 125,-1.94 127.083,-1.94 127.083,-1.73 129.167,-1.73 129.167,-1.65 131.25,-1.65 131.25,-1.67 133.333,-1.67 133.333,-1.79 135.417,-1.79 135.417,-1.41 137.5,-1.41 137.5,-1.46 139.583,-1.46 139.583,-1.09 141.667,-1.09 141.667,-1.51 143.75,-1.51 143.75,-1.54 145.833,-1.54 145.833,-1.36 147.917,-1.36 147.917,-1.3 150,-1.3 150,-1.27 152.083,-1.27 152.083,-1.41 154.167,-1.41 154.167,-1.38 156.25,-1.38 156.25,-1.3 158.333,-1.3 158.333,-1.43 160.417,-1.43 160.417,-1.49 162.5,-1.49 162.5,-1.43 164.583,-1.43 164.583,-1.59 166.667,-1.59 166.667,-1.67 168.75,-1.67 168.75,-1.97 170.833,-1.97 170.833,-2.1 172.917,-2.1 172.917,-2.31 175,-2.31 175,-3.17 177.083,-3.17 177.083,-4.29 179.167,-4.29 179.167,-5.41 181.25,-5.41 181.25,-7.09 183.333,-7.09 183.333,-10.1 185.417,-10.1 185.417,-15.5 187.5,-15.5 187.5,-20.4 189.583,-20.4 189.583,-19.4 191.667,-19.4 191.667,-14.2 193.75,-14.2 193.75,-9.58 195.833,-9.58 195.833,-5.7 197.917,-5.7 197.917,-3.44 200,-3.44 200,-2.39 202.083,-2.39 202.083,-1.71 204.167,-1.71 204.167,-1.27 206.25,-1.27 206.25,-0.849 208.333,-0.849 208.333,-1.17 210.417,-1.17 210.417,-0.785 212.5,-0.785 212.5,-0.849 214.583,-0.849 214.583,-0.561 216.667,-0.561 216.667,-0.4 218.75,-0.4 218.75,-0.561 220.833,-0.561 220.833,-0.464 222.917,-0.464 222.917,-0.288 225,-0.288 225,-0.224 227.083,-0.224 227.083,-0.272 229.167,-0.272 229.167,-0.224 231.25,-0.224 231.25,-0.224 233.333,-0.224 233.333,-0.224 235.417,-0.224 235.417,-0.336 237.5,-0.336 237.5,-0.24 239.583,-0.24 239.583,-0.224 241.667,-0.224 241.667,-0.208 243.75,-0.208 243.75,-0.208 245.833,-0.208 245.833,-0.224 247.917,-0.224 247.917,-0.176 250,-0.176 250,0\" style=\"fill:none; stroke:currentColor;\"/>\n",
       "</svg>\n",
       "</div>\n",
       "<div style=\"flex=grow:1;\">\n",
       "Regular(120, 0, 120, name='mass', label='mass')<br/>\n",
       "<hr style=\"margin-top:.2em; margin-bottom:.2em;\"/>\n",
       "Double() Σ=59917.0 <em>(60216.0 with flow)</em>\n",
       "\n",
       "</div>\n",
       "</div>\n",
       "</html>"
      ],
      "text/plain": [
       "Hist(Regular(120, 0, 120, name='mass', label='mass'), storage=Double()) # Sum: 59917.0 (60216.0 with flow)"
      ]
     },
     "execution_count": 7,
     "metadata": {},
     "output_type": "execute_result"
    }
   ],
   "source": [
    "h1.fill(np.sqrt(2*mu1.pt*mu2.pt*(np.cosh(mu1.eta - mu2.eta) - np.cos(mu1.phi - mu2.phi))))"
   ]
  },
  {
   "cell_type": "markdown",
   "id": "b712a638-69b4-4a3b-b6fc-9aeddea3d988",
   "metadata": {},
   "source": [
    "Plot it using Matplotlib (for logscale)."
   ]
  },
  {
   "cell_type": "code",
   "execution_count": 8,
   "id": "2d3fde17-8acc-47e7-bc7e-c50ba80c7977",
   "metadata": {},
   "outputs": [
    {
     "data": {
      "image/png": "[encoded data removed]",
      "text/plain": [
       "<Figure size 432x288 with 1 Axes>"
      ]
     },
     "metadata": {
      "needs_background": "light"
     },
     "output_type": "display_data"
    }
   ],
   "source": [
    "h1.plot()\n",
    "plt.yscale(\"log\")"
   ]
  },
  {
   "cell_type": "markdown",
   "id": "4be99cf3-da49-4e95-8032-81e9325fda9b",
   "metadata": {},
   "source": [
    "## What a the same analysis looks like in PyROOT"
   ]
  },
  {
   "cell_type": "code",
   "execution_count": 9,
   "id": "8069076d-3892-4c71-9e9c-be81bc50794b",
   "metadata": {},
   "outputs": [
    {
     "name": "stdout",
     "output_type": "stream",
     "text": [
      "Welcome to JupyROOT 6.24/00\n"
     ]
    }
   ],
   "source": [
    "import ROOT\n",
    "c1 = ROOT.TCanvas()"
   ]
  },
  {
   "cell_type": "code",
   "execution_count": 10,
   "id": "93794a0b-3480-423c-abf0-b80517c46937",
   "metadata": {},
   "outputs": [],
   "source": [
    "rootfile = ROOT.TFile.Open(\"root://eospublic.cern.ch//eos/opendata/cms/derived-data/AOD2NanoAODOutreachTool/Run2012BC_DoubleMuParked_Muons.root\")\n",
    "roottree = rootfile.Get(\"Events\")"
   ]
  },
  {
   "cell_type": "markdown",
   "id": "c104115a-a9ef-488e-876f-ef5b3f9b139b",
   "metadata": {},
   "source": [
    "ROOT analyses (before RDataFrame; see below) are based on an event loop. Reading and calculations are done in the loop."
   ]
  },
  {
   "cell_type": "code",
   "execution_count": 11,
   "id": "ea1b97ea-48a2-48ff-a074-9e114f828640",
   "metadata": {},
   "outputs": [],
   "source": [
    "h2 = ROOT.TH1D(\"h2\", \"mass\", 120, 0, 120)\n",
    "\n",
    "for index, event in enumerate(roottree):\n",
    "    # Analyzing a subsample means breaking out of the loop early.\n",
    "    if index == 100000:\n",
    "        break\n",
    "    # Applying cuts means if-statements.\n",
    "    if event.nMuon >= 2 and event.Muon_charge[0] != event.Muon_charge[1]:\n",
    "        mu1_pt = event.Muon_pt[0]\n",
    "        mu2_pt = event.Muon_pt[1]\n",
    "        mu1_eta = event.Muon_eta[0]\n",
    "        mu2_eta = event.Muon_eta[1]\n",
    "        mu1_phi = event.Muon_phi[0]\n",
    "        mu2_phi = event.Muon_phi[1]\n",
    "        h2.Fill(np.sqrt(2*mu1_pt*mu2_pt*(np.cosh(mu1_eta - mu2_eta) - np.cos(mu1_phi - mu2_phi))))"
   ]
  },
  {
   "cell_type": "code",
   "execution_count": 12,
   "id": "2b1dc8bb-58a1-4609-85c6-2ea6d051e7aa",
   "metadata": {},
   "outputs": [
    {
     "data": {
      "image/png": "[encoded data removed]",
      "text/plain": [
       "<IPython.core.display.Image object>"
      ]
     },
     "metadata": {},
     "output_type": "display_data"
    }
   ],
   "source": [
    "h2.Draw()\n",
    "c1.SetLogy()\n",
    "c1.Draw()"
   ]
  },
  {
   "cell_type": "markdown",
   "id": "8358a124-4b4a-488d-89a9-07431143cabc",
   "metadata": {},
   "source": [
    "## What a the same analysis looks like in old C++\n",
    "\n",
    "By \"old C++,\" I mean `TTree::GetEntry`. This, also is a reading + calculating loop over events.\n",
    "\n",
    "Use `ROOT.gInterpreter.Declare` to define a C++ function in Python that we can use through PyROOT."
   ]
  },
  {
   "cell_type": "code",
   "execution_count": 13,
   "id": "5c28ca22-406b-422d-a980-055027f3c02a",
   "metadata": {},
   "outputs": [
    {
     "data": {
      "text/plain": [
       "True"
      ]
     },
     "execution_count": 13,
     "metadata": {},
     "output_type": "execute_result"
    }
   ],
   "source": [
    "ROOT.gInterpreter.Declare('''\n",
    "void compute(TH1D& h3, TTree& roottree) {\n",
    "    UInt_t nMuon;\n",
    "    float Muon_pt[50];\n",
    "    float Muon_eta[50];\n",
    "    float Muon_phi[50];\n",
    "    int32_t Muon_charge[50];\n",
    "\n",
    "    roottree.SetBranchStatus(\"*\", 0);\n",
    "    roottree.SetBranchStatus(\"nMuon\", 1);\n",
    "    roottree.SetBranchStatus(\"Muon_pt\", 1);\n",
    "    roottree.SetBranchStatus(\"Muon_eta\", 1);\n",
    "    roottree.SetBranchStatus(\"Muon_phi\", 1);\n",
    "    roottree.SetBranchStatus(\"Muon_charge\", 1);\n",
    "\n",
    "    roottree.SetBranchAddress(\"nMuon\", &nMuon);\n",
    "    roottree.SetBranchAddress(\"Muon_pt\", Muon_pt);\n",
    "    roottree.SetBranchAddress(\"Muon_eta\", Muon_eta);\n",
    "    roottree.SetBranchAddress(\"Muon_phi\", Muon_phi);\n",
    "    roottree.SetBranchAddress(\"Muon_charge\", Muon_charge);\n",
    "    \n",
    "    for (int index = 0; index < 100000; index++) {\n",
    "        roottree.GetEntry(index);\n",
    "        if (nMuon >= 2 && Muon_charge[0] != Muon_charge[1]) {\n",
    "            float mu1_pt = Muon_pt[0];\n",
    "            float mu2_pt = Muon_pt[1];\n",
    "            float mu1_eta = Muon_eta[0];\n",
    "            float mu2_eta = Muon_eta[1];\n",
    "            float mu1_phi = Muon_phi[0];\n",
    "            float mu2_phi = Muon_phi[1];\n",
    "            h3.Fill(sqrt(2*mu1_pt*mu2_pt*(cosh(mu1_eta - mu2_eta) - cos(mu1_phi - mu2_phi))));\n",
    "        }\n",
    "    }\n",
    "}\n",
    "''')"
   ]
  },
  {
   "cell_type": "code",
   "execution_count": 14,
   "id": "c91cb692-ff46-40c8-bbde-1562073ba00d",
   "metadata": {},
   "outputs": [],
   "source": [
    "rootfile = ROOT.TFile.Open(\"root://eospublic.cern.ch//eos/opendata/cms/derived-data/AOD2NanoAODOutreachTool/Run2012BC_DoubleMuParked_Muons.root\")\n",
    "roottree = rootfile.Get(\"Events\")\n",
    "\n",
    "h3 = ROOT.TH1D(\"h3\", \"mass\", 120, 0, 120)\n",
    "\n",
    "ROOT.compute(h3, roottree)"
   ]
  },
  {
   "cell_type": "code",
   "execution_count": 15,
   "id": "15d58a70-bad4-4a61-b37b-5ceee648cc63",
   "metadata": {},
   "outputs": [
    {
     "data": {
      "image/png": "[encoded data removed]",
      "text/plain": [
       "<IPython.core.display.Image object>"
      ]
     },
     "metadata": {},
     "output_type": "display_data"
    }
   ],
   "source": [
    "h3.Draw()\n",
    "c1.SetLogy()\n",
    "c1.Draw()"
   ]
  },
  {
   "cell_type": "markdown",
   "id": "df57ee78-c6e5-42b0-99bb-14c1524764b2",
   "metadata": {},
   "source": [
    "## What a the same analysis looks like in modern RDataFrame\n",
    "\n",
    "This case mixes Python (for organization) with C++ (for speed).\n",
    "\n",
    "<img src=\"img/rdataframe-flow.svg\" style=\"width: 800px\">"
   ]
  },
  {
   "cell_type": "code",
   "execution_count": 16,
   "id": "323bbb86-ce99-47da-a8f3-4f1ad6f33e13",
   "metadata": {},
   "outputs": [],
   "source": [
    "df = ROOT.RDataFrame(\"Events\", \"root://eospublic.cern.ch//eos/opendata/cms/derived-data/AOD2NanoAODOutreachTool/Run2012BC_DoubleMuParked_Muons.root\")\n",
    "\n",
    "# Each node is connected to the previous, in a chain (which can split and recombine).\n",
    "df_limit = df.Range(100000)\n",
    "df_2mu = df_limit.Filter(\"nMuon >= 2\")\n",
    "df_os = df_2mu.Filter(\"Muon_charge[0] != Muon_charge[1]\")\n",
    "\n",
    "# This node is a big C++ block.\n",
    "df_mass = df_os.Define(\"Dimuon_mass\", '''\n",
    "float mu1_pt = Muon_pt[0];\n",
    "float mu2_pt = Muon_pt[1];\n",
    "float mu1_eta = Muon_eta[0];\n",
    "float mu2_eta = Muon_eta[1];\n",
    "float mu1_phi = Muon_phi[0];\n",
    "float mu2_phi = Muon_phi[1];\n",
    "return sqrt(2*mu1_pt*mu2_pt*(cosh(mu1_eta - mu2_eta) - cos(mu1_phi - mu2_phi)));\n",
    "''')\n",
    "\n",
    "# This one is an endpoint (action).\n",
    "h4 = df_mass.Histo1D((\"h3\", \"mass\", 120, 0, 120), \"Dimuon_mass\")"
   ]
  },
  {
   "cell_type": "markdown",
   "id": "244af2ce-e5fa-4d69-aa1f-90e0960ce539",
   "metadata": {},
   "source": [
    "The above just sets up the calculation (compiling the C++ strings). It runs when you evaluate `h4.Draw`."
   ]
  },
  {
   "cell_type": "code",
   "execution_count": 17,
   "id": "11751fad-285b-455a-a3d4-45e024a239b2",
   "metadata": {},
   "outputs": [
    {
     "data": {
      "image/png": "[encoded data removed]",
      "text/plain": [
       "<IPython.core.display.Image object>"
      ]
     },
     "metadata": {},
     "output_type": "display_data"
    }
   ],
   "source": [
    "h4.Draw()   # <--- This is the line that computes everything.\n",
    "c1.SetLogy()\n",
    "c1.Draw()"
   ]
  },
  {
   "cell_type": "markdown",
   "id": "6729a12b-0437-4a3b-873c-c1dfead35d46",
   "metadata": {},
   "source": [
    "For more on RDataFrame, see [this tutorial](https://cms-opendata-workshop.github.io/workshop-lesson-root/05-rdataframe/index.html)."
   ]
  }
 ],
 "metadata": {
  "kernelspec": {
   "display_name": "Python 3",
   "language": "python",
   "name": "python3"
  },
  "language_info": {
   "codemirror_mode": {
    "name": "ipython",
    "version": 3
   },
   "file_extension": ".py",
   "mimetype": "text/x-python",
   "name": "python",
   "nbconvert_exporter": "python",
   "pygments_lexer": "ipython3",
   "version": "3.8.10"
  }
 },
 "nbformat": 4,
 "nbformat_minor": 5
}
