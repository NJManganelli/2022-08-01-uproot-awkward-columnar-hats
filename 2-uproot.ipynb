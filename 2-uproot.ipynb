{
 "cells": [
  {
   "cell_type": "markdown",
   "id": "2d4444c8-b5cf-40eb-984c-2e37c971943b",
   "metadata": {},
   "source": [
    "# Using Uproot effectively"
   ]
  },
  {
   "cell_type": "markdown",
   "id": "427bdfa4-38ee-4529-a10d-96b95e2116ce",
   "metadata": {},
   "source": [
    "### If you're joining this tutorial live:\n",
    "\n",
    "   1. Open this notebook in Binder or on your own computer (see [GitHub README](https://github.com/jpivarski-talks/2021-06-14-uproot-awkward-columnar-hats#readme)). If you have any troubles with installation or uninstalled libraries, switch to Binder.\n",
    "   2. Open the Sli.do link that I'm sharing on the screen. This allows you to ask questions at any time, anonymously if you want.\n",
    "   3. Evaluate the cells in the notebook along with me. I will frequently take detours, changing the input cells in real time. **Try out variations yourself, and ask questions at any time.**\n",
    "\n",
    "Consider this a tour and I'm your tour guide. The notebook is a planned route to get things started, but your questions and wayfaring are more important."
   ]
  },
  {
   "cell_type": "markdown",
   "id": "a4ceffdc-723b-4a00-abb0-0fa934454b11",
   "metadata": {},
   "source": [
    "### If you're reading this tutorial online or watching a video:\n",
    "\n",
    "   * There's a directory of evaluated notebooks [in GitHub](https://github.com/jpivarski-talks/2021-06-14-uproot-awkward-columnar-hats), so you don't need to use Binder to see the cell output, but it's \"canned,\" it doesn't include the experiments we tried on the day of the tutorial.\n",
    "   * There are other tutorials on this subject. A very similar tutorial to this one will be presented at [PyHEP 2021](https://indico.cern.ch/event/1019958/) (July 5‒9, 2021). If that's in the future, join us! If that's in the past, the video is on YouTube."
   ]
  },
  {
   "cell_type": "markdown",
   "id": "e47f7209-b5a5-4fe4-a041-08b7ed0c8dff",
   "metadata": {},
   "source": [
    "## Python and Pythonic analysis tools (NumPy, Matplotlib, Pandas, etc.) are mainstream"
   ]
  },
  {
   "cell_type": "markdown",
   "id": "c7982e19-a16a-4b6b-8e83-91274790e64c",
   "metadata": {},
   "source": [
    "This is an analysis of GitHub repos created by CMS physicists (i.e. \"everyone who forked cms-sw/cmssw\").\n",
    "\n",
    "GitHub labels these repos as C/C++, Python, or Jupyter: the Python and Jupyter categories are now the most common.\n",
    "\n",
    "<img src=\"img/lhlhc-github-languages.svg\" style=\"width: 800px\">"
   ]
  },
  {
   "cell_type": "markdown",
   "id": "0507898f-8f03-47a9-b02f-9b33c33b1b22",
   "metadata": {},
   "source": [
    "Furthermore, if we search for strings inside these repos, words like \"`numpy`\" are found in more repos than words like \"`TFile`\" (proxy for ROOT).\n",
    "\n",
    "`\"uproot\"` is also fairly common, but not as much as the likes of NumPy and ROOT.\n",
    "\n",
    "<img src=\"img/lhlhc-github-overlay-lin.svg\" style=\"width: 800px\">"
   ]
  },
  {
   "cell_type": "markdown",
   "id": "ddce0fa9-e129-403f-b7c9-2eee8c34f7e8",
   "metadata": {},
   "source": [
    "We also asked questions about this at last year's PyHEP workshop (408 respondents, about 90 in CMS).\n",
    "\n",
    "You use Python about equally with C++, and primarily for analysis (not just machine learning).\n",
    "\n",
    "<img src=\"img/pyhep2020-survey-5.svg\" style=\"width: 80%\">"
   ]
  },
  {
   "cell_type": "markdown",
   "id": "8ab05baf-721a-467e-ab29-feb41d46cf6a",
   "metadata": {},
   "source": [
    "## Some general things about Python\n",
    "\n",
    "   1. Python is fun and easy.\n",
    "   2. Python is slow."
   ]
  },
  {
   "cell_type": "markdown",
   "id": "1792a647-b76c-4eeb-bd49-9dfbc234c601",
   "metadata": {},
   "source": [
    "John Conway's game of life: [source](http://www.ericweisstein.com/encyclopedias/life/Puffer.html).\n",
    "\n",
    "<img src=\"img/game-of-life-puffer.gif\" style=\"width: 813px\">"
   ]
  },
  {
   "cell_type": "code",
   "execution_count": null,
   "id": "885a9bd8-7ca8-4005-8d11-a6a80e9a83b2",
   "metadata": {},
   "outputs": [],
   "source": [
    "WIDTH = 128\n",
    "HEIGHT = 32\n",
    "\n",
    "def new_world():\n",
    "    world = [[0 for i in range(WIDTH)] for j in range(HEIGHT)]\n",
    "\n",
    "    for x, y in [\n",
    "        ( 4, 125), ( 3, 124), ( 3, 123), ( 3, 122), ( 3, 121), ( 3, 120), ( 3, 119), ( 4, 119), ( 5, 119), ( 6, 120),\n",
    "        (10, 121), (11, 120), (12, 119), (12, 120), (13, 120), (13, 121), (14, 121),\n",
    "        (20, 121), (19, 120), (18, 120), (18, 119), (17, 121), (17, 120), (16, 121),\n",
    "        (26, 125), (27, 124), (27, 123), (27, 122), (27, 121), (27, 120), (27, 119), (26, 119), (25, 119), (24, 120)\n",
    "    ]:\n",
    "        world[x][y] = 1\n",
    "\n",
    "    return world\n",
    "\n",
    "world = new_world()"
   ]
  },
  {
   "cell_type": "code",
   "execution_count": null,
   "id": "c5ff3ad7-20df-43ed-b1cb-f46442b0e750",
   "metadata": {},
   "outputs": [],
   "source": [
    "def show(world):\n",
    "    for row in world:\n",
    "        stars = \"\".join(\"*\" if cell else \" \" for cell in row)\n",
    "        print(\"|\" + stars + \"|\")\n",
    "\n",
    "show(world)"
   ]
  },
  {
   "cell_type": "code",
   "execution_count": null,
   "id": "6129e2cc-d87e-48e9-a8b0-fb6a6417bc19",
   "metadata": {},
   "outputs": [],
   "source": [
    "def step_python(world):\n",
    "    outworld = []\n",
    "    for i, row in enumerate(world):\n",
    "        outrow = []\n",
    "        for j, cell in enumerate(row):\n",
    "            # count the number of living neighbors\n",
    "            num_neighbors = 0\n",
    "            for di in -1, 0, 1:\n",
    "                for dj in -1, 0, 1:\n",
    "                    if (di, dj) != (0, 0):\n",
    "                        if world[(i + di) % HEIGHT][(j + dj) % WIDTH]:\n",
    "                            num_neighbors += 1\n",
    "\n",
    "            # use that information to decide if the next value of this cell is 0 or 1\n",
    "            if cell and 1 < num_neighbors < 4:\n",
    "                outrow.append(1)\n",
    "            elif not cell and num_neighbors == 3:\n",
    "                outrow.append(1)\n",
    "            else:\n",
    "                outrow.append(0)\n",
    "\n",
    "        outworld.append(outrow)\n",
    "    return outworld"
   ]
  },
  {
   "cell_type": "code",
   "execution_count": null,
   "id": "9813adc0-ae89-47c3-b3f8-8d347c9968b9",
   "metadata": {},
   "outputs": [],
   "source": [
    "world = step_python(world)\n",
    "show(world)"
   ]
  },
  {
   "cell_type": "code",
   "execution_count": null,
   "id": "7095474b-a417-465b-b918-0ed93b77ee90",
   "metadata": {},
   "outputs": [],
   "source": [
    "%%timeit\n",
    "\n",
    "step_python(world)"
   ]
  },
  {
   "cell_type": "code",
   "execution_count": null,
   "id": "785ad483-6d20-4a5b-987c-c29e938fb922",
   "metadata": {},
   "outputs": [],
   "source": [
    "%%writefile game-of-life.c\n",
    "\n",
    "#include <stdint.h>\n",
    "\n",
    "const int32_t WIDTH = 128;\n",
    "const int32_t HEIGHT = 32;\n",
    "\n",
    "void step_c(int8_t* inarray, int8_t* outarray) {\n",
    "    for (int32_t i = 0; i < HEIGHT; i++) {\n",
    "        for (int32_t j = 0; j < WIDTH; j++) {\n",
    "            // count the number of living neighbors\n",
    "            int32_t num_neighbors = 0;\n",
    "            for (int32_t di = -1; di <= 1; di++) {\n",
    "                for (int32_t dj = -1; dj <= 1; dj++) {\n",
    "                    if (!(di == 0 && dj == 0)) {\n",
    "                        if (inarray[((i + di + HEIGHT) % HEIGHT) * WIDTH + ((j + dj + WIDTH) % WIDTH)]) {\n",
    "                            num_neighbors++;\n",
    "                        }\n",
    "                    }\n",
    "                }\n",
    "            }\n",
    "\n",
    "            // use that information to decide if the next value of this cell is 0 or 1\n",
    "            int8_t cell = inarray[i * WIDTH + j];\n",
    "            if (cell && 1 < num_neighbors && num_neighbors < 4) {\n",
    "                outarray[i * WIDTH + j] = 1;\n",
    "            }\n",
    "            else if (!cell && num_neighbors == 3) {\n",
    "                outarray[i * WIDTH + j] = 1;\n",
    "            }\n",
    "            else {\n",
    "                outarray[i * WIDTH + j] = 0;\n",
    "            }\n",
    "        }\n",
    "    }\n",
    "\n",
    "    // copy the outarray buffer to the inarray buffer (so the above can be repeated)\n",
    "    for (int32_t i = 0; i < HEIGHT; i++) {\n",
    "        for (int32_t j = 0; j < WIDTH; j++) {\n",
    "            inarray[i * WIDTH + j] = outarray[i * WIDTH + j];\n",
    "        }\n",
    "    }\n",
    "}"
   ]
  },
  {
   "cell_type": "code",
   "execution_count": null,
   "id": "6e0c8020-63ad-456a-b2a3-b90ccc24a40d",
   "metadata": {},
   "outputs": [],
   "source": [
    "!gcc -std=c99 game-of-life.c -O3 -shared -o game-of-life.so"
   ]
  },
  {
   "cell_type": "code",
   "execution_count": null,
   "id": "c5a8852d-66b0-47d5-9842-6a5b8c2fcca8",
   "metadata": {},
   "outputs": [],
   "source": [
    "import ctypes\n",
    "\n",
    "ArrayType = ctypes.c_int8 * WIDTH * HEIGHT\n",
    "\n",
    "step_c = ctypes.cdll.LoadLibrary(\"./game-of-life.so\").step_c\n",
    "step_c.argtypes = [ArrayType, ArrayType]\n",
    "step_c.restype = None"
   ]
  },
  {
   "cell_type": "code",
   "execution_count": null,
   "id": "a15841fe-27a7-4606-881c-12592a4d66c7",
   "metadata": {},
   "outputs": [],
   "source": [
    "inarray = ArrayType()\n",
    "outarray = ArrayType()\n",
    "\n",
    "for i, row in enumerate(new_world()):\n",
    "    for j, cell in enumerate(row):\n",
    "        inarray[i][j] = cell"
   ]
  },
  {
   "cell_type": "code",
   "execution_count": null,
   "id": "083f370e-5b0a-4132-b64e-f661a972c330",
   "metadata": {},
   "outputs": [],
   "source": [
    "step_c(inarray, outarray, 1)\n",
    "show(outarray)"
   ]
  },
  {
   "cell_type": "code",
   "execution_count": null,
   "id": "d3f7a459-16dc-4c4f-8eec-d874d0823aff",
   "metadata": {},
   "outputs": [],
   "source": [
    "%%timeit\n",
    "\n",
    "step_c(inarray, outarray)"
   ]
  },
  {
   "cell_type": "code",
   "execution_count": null,
   "id": "47ef67d9-f369-40fc-90f1-8bc4643e1656",
   "metadata": {},
   "outputs": [],
   "source": [
    "import numpy as np\n",
    "\n",
    "def step_numpy(world):\n",
    "    num_neighbors = np.zeros(world.shape, dtype=int)                        # initialize neighbors count\n",
    "    num_neighbors += np.roll(np.roll(world,  1, axis=0),  1, axis=1)        # add southwest\n",
    "    num_neighbors += np.roll(np.roll(world,  1, axis=0),  0, axis=1)        # add south\n",
    "    num_neighbors += np.roll(np.roll(world,  1, axis=0), -1, axis=1)        # add southeast\n",
    "    num_neighbors += np.roll(np.roll(world,  0, axis=0),  1, axis=1)        # add west\n",
    "    num_neighbors += np.roll(np.roll(world,  0, axis=0), -1, axis=1)        # add east\n",
    "    num_neighbors += np.roll(np.roll(world, -1, axis=0),  1, axis=1)        # add northwest\n",
    "    num_neighbors += np.roll(np.roll(world, -1, axis=0),  0, axis=1)        # add north\n",
    "    num_neighbors += np.roll(np.roll(world, -1, axis=0), -1, axis=1)        # add northeast\n",
    "\n",
    "    survivors = ((world == 1) & (num_neighbors > 1) & (num_neighbors < 4))  # old cells that survive\n",
    "    births    = ((world == 0) & (num_neighbors == 3))                       # new cells that are born\n",
    "\n",
    "    return (births | survivors).astype(world.dtype)                         # union as booleans\n",
    "\n",
    "world = np.array(new_world())"
   ]
  },
  {
   "cell_type": "code",
   "execution_count": null,
   "id": "508af739-c798-457e-9ded-48289c8e2cee",
   "metadata": {
    "tags": []
   },
   "outputs": [],
   "source": [
    "world = step_numpy(world)\n",
    "show(world)"
   ]
  },
  {
   "cell_type": "code",
   "execution_count": null,
   "id": "0ce62536-6ad9-4b33-897d-ca96aadb8dde",
   "metadata": {},
   "outputs": [],
   "source": [
    "%%timeit\n",
    "\n",
    "step_numpy(world)"
   ]
  },
  {
   "cell_type": "code",
   "execution_count": null,
   "id": "43d0fb48-d926-4632-8582-f302f8b418dd",
   "metadata": {},
   "outputs": [],
   "source": [
    "import scipy.signal\n",
    "\n",
    "num_neighbors_convolver = np.array([[1, 1, 1], [1, 0, 1], [1, 1, 1]])\n",
    "\n",
    "def step_scipy(world):\n",
    "    num_neighbors = scipy.signal.convolve2d(world, num_neighbors_convolver, mode=\"same\", boundary=\"wrap\")\n",
    "    \n",
    "    survivors = ((world == 1) & (num_neighbors > 1) & (num_neighbors < 4))  # old cells that survive\n",
    "    births    = ((world == 0) & (num_neighbors == 3))                       # new cells that are born\n",
    "\n",
    "    return (births | survivors).astype(world.dtype)                         # union as booleans\n",
    "\n",
    "world = np.array(new_world())"
   ]
  },
  {
   "cell_type": "code",
   "execution_count": null,
   "id": "7e92ae34-c6fc-4db3-80ec-2c33438bb90a",
   "metadata": {},
   "outputs": [],
   "source": [
    "world = step_scipy(world)\n",
    "show(world)"
   ]
  },
  {
   "cell_type": "code",
   "execution_count": null,
   "id": "6fd3d498-c565-4ad6-afc8-d12b75dc0be7",
   "metadata": {},
   "outputs": [],
   "source": [
    "%%timeit\n",
    "\n",
    "step_scipy(world)"
   ]
  },
  {
   "cell_type": "code",
   "execution_count": null,
   "id": "c14d4662-e230-41ce-adb9-4327a4e6bfcc",
   "metadata": {},
   "outputs": [],
   "source": [
    "import numba as nb\n",
    "\n",
    "@nb.jit\n",
    "def step_numba(world):\n",
    "    outworld = np.empty_like(world)\n",
    "    for i, row in enumerate(world):\n",
    "        for j, cell in enumerate(row):\n",
    "            # count the number of living neighbors\n",
    "            num_neighbors = 0\n",
    "            for di in -1, 0, 1:\n",
    "                for dj in -1, 0, 1:\n",
    "                    if (di, dj) != (0, 0):\n",
    "                        if world[(i + di) % HEIGHT][(j + dj) % WIDTH]:\n",
    "                            num_neighbors += 1\n",
    "\n",
    "            # use that information to decide if the next value of this cell is 0 or 1\n",
    "            if cell and 1 < num_neighbors < 4:\n",
    "                outworld[i, j] = 1\n",
    "            elif not cell and num_neighbors == 3:\n",
    "                outworld[i, j] = 1\n",
    "            else:\n",
    "                outworld[i, j] = 0\n",
    "\n",
    "    return outworld\n",
    "\n",
    "world = np.array(new_world())"
   ]
  },
  {
   "cell_type": "code",
   "execution_count": null,
   "id": "62305e98-a368-4287-9f9c-95cbcf17803e",
   "metadata": {},
   "outputs": [],
   "source": [
    "world = step_numba(world)\n",
    "show(world)"
   ]
  },
  {
   "cell_type": "code",
   "execution_count": null,
   "id": "dabe9cb9-d3c7-4e01-837d-b02f6dfc133d",
   "metadata": {},
   "outputs": [],
   "source": [
    "%%timeit\n",
    "\n",
    "step_numba(world)"
   ]
  },
  {
   "cell_type": "code",
   "execution_count": null,
   "id": "31951b2c-50d5-430b-b572-5d51e8d3c858",
   "metadata": {},
   "outputs": [],
   "source": [
    "import matplotlib\n",
    "import matplotlib.pyplot as plt\n",
    "\n",
    "world = np.array(new_world())\n",
    "\n",
    "fig = plt.figure(figsize=(8.13, 2.97), dpi=125)\n",
    "plt.imshow(world)"
   ]
  },
  {
   "cell_type": "code",
   "execution_count": null,
   "id": "bbded7b5-8491-4855-950c-61175c8e7705",
   "metadata": {},
   "outputs": [],
   "source": [
    "matplotlib.rc(\"animation\", html=\"jshtml\")\n",
    "fig = plt.figure(figsize=(8.13, 2.97), dpi=125)\n",
    "\n",
    "plt.figure(1)\n",
    "graphic = plt.imshow(world)\n",
    "plt.close(1)\n",
    "\n",
    "def update(i):\n",
    "    global world, graphic\n",
    "    world = step_numba(world)\n",
    "    graphic.set_array(world)\n",
    "    return [graphic]\n",
    "\n",
    "matplotlib.animation.FuncAnimation(fig, update, frames=250, interval=50, blit=True)"
   ]
  },
  {
   "cell_type": "code",
   "execution_count": null,
   "id": "054eab84-3673-4325-826d-a0f748c52eaa",
   "metadata": {},
   "outputs": [],
   "source": []
  },
  {
   "cell_type": "code",
   "execution_count": null,
   "id": "a9eca8f1-1b86-4478-ad38-59e32a3e3056",
   "metadata": {},
   "outputs": [],
   "source": []
  },
  {
   "cell_type": "code",
   "execution_count": null,
   "id": "1ae24c82-cd3d-488b-a076-d29aba9bb2dd",
   "metadata": {},
   "outputs": [],
   "source": []
  },
  {
   "cell_type": "code",
   "execution_count": null,
   "id": "e2c7743c-af17-45fb-97af-aaff7870fd8a",
   "metadata": {},
   "outputs": [],
   "source": []
  },
  {
   "cell_type": "code",
   "execution_count": null,
   "id": "7afea21a-7621-479c-b39e-4cc8404e9a22",
   "metadata": {},
   "outputs": [],
   "source": []
  },
  {
   "cell_type": "code",
   "execution_count": null,
   "id": "cb4fd69b-fade-4d13-bf14-c8803c84095b",
   "metadata": {},
   "outputs": [],
   "source": []
  },
  {
   "cell_type": "code",
   "execution_count": null,
   "id": "9884369d-60cb-4052-b748-7dcfe69bac82",
   "metadata": {},
   "outputs": [],
   "source": []
  },
  {
   "cell_type": "markdown",
   "id": "8fb79b2b-1074-4ccb-9b10-7cc607cd8dee",
   "metadata": {},
   "source": [
    "## What a ~complete analysis looks like in Uproot/Awkward Array\n",
    "\n",
    "Instead of starting with small steps, let's look at where this is going, what a sample analysis looks like with these tools."
   ]
  },
  {
   "cell_type": "code",
   "execution_count": null,
   "id": "73e240fe-2e64-4132-b7a8-617b57b11c7d",
   "metadata": {},
   "outputs": [],
   "source": [
    "import matplotlib.pyplot as plt\n",
    "import numpy as np\n",
    "import awkward as ak\n",
    "\n",
    "import uproot\n",
    "import hist"
   ]
  },
  {
   "cell_type": "code",
   "execution_count": null,
   "id": "002f8b6a-ae14-43be-bab7-1cebb3fc67c1",
   "metadata": {},
   "outputs": [],
   "source": [
    "upfile = uproot.open(\"root://eospublic.cern.ch//eos/opendata/cms/derived-data/AOD2NanoAODOutreachTool/Run2012BC_DoubleMuParked_Muons.root\")\n",
    "uptree = upfile[\"Events\"]\n",
    "uptree.show()"
   ]
  },
  {
   "cell_type": "markdown",
   "id": "fea3ab0f-371f-41eb-b561-f89c96d347f4",
   "metadata": {},
   "source": [
    "The general strategy is to get arrays in one function call (usually slow, has to read) and use them interactively afterward."
   ]
  },
  {
   "cell_type": "code",
   "execution_count": null,
   "id": "70b2a144-b6cb-4d30-bdd9-0cc56bce4379",
   "metadata": {},
   "outputs": [],
   "source": [
    "muons = uptree.arrays([\"Muon_pt\", \"Muon_eta\", \"Muon_phi\", \"Muon_charge\"], cut=\"nMuon >= 2\", how=\"zip\", entry_stop=100000)"
   ]
  },
  {
   "cell_type": "markdown",
   "id": "579fea6c-f7b6-4fcc-9a68-3adab807e3c7",
   "metadata": {},
   "source": [
    "We've already applied an `nMuon >= 2` cut, but we can define additional cuts."
   ]
  },
  {
   "cell_type": "code",
   "execution_count": null,
   "id": "ff2f64c9-bd11-4227-9ca7-c3c8f01e304d",
   "metadata": {},
   "outputs": [],
   "source": [
    "os_cut = muons[:, \"Muon\", \"charge\", 0] != muons[:, \"Muon\", \"charge\", 1]\n",
    "os_cut"
   ]
  },
  {
   "cell_type": "markdown",
   "id": "9806eaab-8cec-473d-8d5c-fd04e97a304f",
   "metadata": {},
   "source": [
    "Slicing (to be described in more detail later) can filter and reduce the structure of an array."
   ]
  },
  {
   "cell_type": "code",
   "execution_count": null,
   "id": "6e588fd2-3f61-43fd-9c69-f9c1a9efa5de",
   "metadata": {},
   "outputs": [],
   "source": [
    "mu1 = muons[os_cut, 0, \"Muon\"]\n",
    "mu2 = muons[os_cut, 1, \"Muon\"]\n",
    "mu1, mu2"
   ]
  },
  {
   "cell_type": "markdown",
   "id": "b58cfc7d-57ae-4107-826b-0fbe1bd93f9a",
   "metadata": {},
   "source": [
    "Make a histogram and fill it with a calculation from the array. The mini-plot is just the way this histogram type is visualized in Jupyter."
   ]
  },
  {
   "cell_type": "code",
   "execution_count": null,
   "id": "e3c16710-82ff-4ef5-b7f8-b2b70afad43e",
   "metadata": {},
   "outputs": [],
   "source": [
    "h1 = hist.Hist.new.Reg(120, 0, 120, name=\"mass\").Double()"
   ]
  },
  {
   "cell_type": "code",
   "execution_count": null,
   "id": "6bc993fc-4dcf-4b02-ad6c-9e265e3df60c",
   "metadata": {},
   "outputs": [],
   "source": [
    "h1.fill(np.sqrt(2*mu1.pt*mu2.pt*(np.cosh(mu1.eta - mu2.eta) - np.cos(mu1.phi - mu2.phi))))"
   ]
  },
  {
   "cell_type": "markdown",
   "id": "b712a638-69b4-4a3b-b6fc-9aeddea3d988",
   "metadata": {},
   "source": [
    "Plot it using Matplotlib (for logscale)."
   ]
  },
  {
   "cell_type": "code",
   "execution_count": null,
   "id": "2d3fde17-8acc-47e7-bc7e-c50ba80c7977",
   "metadata": {},
   "outputs": [],
   "source": [
    "h1.plot()\n",
    "plt.yscale(\"log\")"
   ]
  },
  {
   "cell_type": "markdown",
   "id": "4be99cf3-da49-4e95-8032-81e9325fda9b",
   "metadata": {},
   "source": [
    "## What a the same analysis looks like in PyROOT"
   ]
  },
  {
   "cell_type": "code",
   "execution_count": null,
   "id": "8069076d-3892-4c71-9e9c-be81bc50794b",
   "metadata": {},
   "outputs": [],
   "source": [
    "import ROOT\n",
    "c1 = ROOT.TCanvas()"
   ]
  },
  {
   "cell_type": "code",
   "execution_count": null,
   "id": "93794a0b-3480-423c-abf0-b80517c46937",
   "metadata": {},
   "outputs": [],
   "source": [
    "rootfile = ROOT.TFile.Open(\"root://eospublic.cern.ch//eos/opendata/cms/derived-data/AOD2NanoAODOutreachTool/Run2012BC_DoubleMuParked_Muons.root\")\n",
    "roottree = rootfile.Get(\"Events\")"
   ]
  },
  {
   "cell_type": "markdown",
   "id": "c104115a-a9ef-488e-876f-ef5b3f9b139b",
   "metadata": {},
   "source": [
    "ROOT analyses (before RDataFrame; see below) are based on an event loop. Reading and calculations are done in the loop."
   ]
  },
  {
   "cell_type": "code",
   "execution_count": null,
   "id": "ea1b97ea-48a2-48ff-a074-9e114f828640",
   "metadata": {},
   "outputs": [],
   "source": [
    "h2 = ROOT.TH1D(\"h2\", \"mass\", 120, 0, 120)\n",
    "\n",
    "for index, event in enumerate(roottree):\n",
    "    # Analyzing a subsample means breaking out of the loop early.\n",
    "    if index == 100000:\n",
    "        break\n",
    "    # Applying cuts means if-statements.\n",
    "    if event.nMuon >= 2 and event.Muon_charge[0] != event.Muon_charge[1]:\n",
    "        mu1_pt = event.Muon_pt[0]\n",
    "        mu2_pt = event.Muon_pt[1]\n",
    "        mu1_eta = event.Muon_eta[0]\n",
    "        mu2_eta = event.Muon_eta[1]\n",
    "        mu1_phi = event.Muon_phi[0]\n",
    "        mu2_phi = event.Muon_phi[1]\n",
    "        h2.Fill(np.sqrt(2*mu1_pt*mu2_pt*(np.cosh(mu1_eta - mu2_eta) - np.cos(mu1_phi - mu2_phi))))"
   ]
  },
  {
   "cell_type": "code",
   "execution_count": null,
   "id": "2b1dc8bb-58a1-4609-85c6-2ea6d051e7aa",
   "metadata": {},
   "outputs": [],
   "source": [
    "h2.Draw()\n",
    "c1.SetLogy()\n",
    "c1.Draw()"
   ]
  },
  {
   "cell_type": "markdown",
   "id": "8358a124-4b4a-488d-89a9-07431143cabc",
   "metadata": {},
   "source": [
    "## What a the same analysis looks like in old C++\n",
    "\n",
    "By \"old C++,\" I mean `TTree::GetEntry`. This is also a reading + calculating loop over events.\n",
    "\n",
    "Use `ROOT.gInterpreter.Declare` to define a C++ function in Python that we can use through PyROOT."
   ]
  },
  {
   "cell_type": "code",
   "execution_count": null,
   "id": "5c28ca22-406b-422d-a980-055027f3c02a",
   "metadata": {},
   "outputs": [],
   "source": [
    "ROOT.gInterpreter.Declare('''\n",
    "void compute(TH1D& h3, TTree& roottree) {\n",
    "    UInt_t nMuon;\n",
    "    float Muon_pt[50];\n",
    "    float Muon_eta[50];\n",
    "    float Muon_phi[50];\n",
    "    int32_t Muon_charge[50];\n",
    "\n",
    "    roottree.SetBranchStatus(\"*\", 0);\n",
    "    roottree.SetBranchStatus(\"nMuon\", 1);\n",
    "    roottree.SetBranchStatus(\"Muon_pt\", 1);\n",
    "    roottree.SetBranchStatus(\"Muon_eta\", 1);\n",
    "    roottree.SetBranchStatus(\"Muon_phi\", 1);\n",
    "    roottree.SetBranchStatus(\"Muon_charge\", 1);\n",
    "\n",
    "    roottree.SetBranchAddress(\"nMuon\", &nMuon);\n",
    "    roottree.SetBranchAddress(\"Muon_pt\", Muon_pt);\n",
    "    roottree.SetBranchAddress(\"Muon_eta\", Muon_eta);\n",
    "    roottree.SetBranchAddress(\"Muon_phi\", Muon_phi);\n",
    "    roottree.SetBranchAddress(\"Muon_charge\", Muon_charge);\n",
    "    \n",
    "    for (int index = 0; index < 100000; index++) {\n",
    "        roottree.GetEntry(index);\n",
    "        if (nMuon >= 2 && Muon_charge[0] != Muon_charge[1]) {\n",
    "            float mu1_pt = Muon_pt[0];\n",
    "            float mu2_pt = Muon_pt[1];\n",
    "            float mu1_eta = Muon_eta[0];\n",
    "            float mu2_eta = Muon_eta[1];\n",
    "            float mu1_phi = Muon_phi[0];\n",
    "            float mu2_phi = Muon_phi[1];\n",
    "            h3.Fill(sqrt(2*mu1_pt*mu2_pt*(cosh(mu1_eta - mu2_eta) - cos(mu1_phi - mu2_phi))));\n",
    "        }\n",
    "    }\n",
    "}\n",
    "''')"
   ]
  },
  {
   "cell_type": "code",
   "execution_count": null,
   "id": "c91cb692-ff46-40c8-bbde-1562073ba00d",
   "metadata": {},
   "outputs": [],
   "source": [
    "rootfile = ROOT.TFile.Open(\"root://eospublic.cern.ch//eos/opendata/cms/derived-data/AOD2NanoAODOutreachTool/Run2012BC_DoubleMuParked_Muons.root\")\n",
    "roottree = rootfile.Get(\"Events\")\n",
    "\n",
    "h3 = ROOT.TH1D(\"h3\", \"mass\", 120, 0, 120)\n",
    "\n",
    "ROOT.compute(h3, roottree)"
   ]
  },
  {
   "cell_type": "code",
   "execution_count": null,
   "id": "15d58a70-bad4-4a61-b37b-5ceee648cc63",
   "metadata": {},
   "outputs": [],
   "source": [
    "h3.Draw()\n",
    "c1.SetLogy()\n",
    "c1.Draw()"
   ]
  },
  {
   "cell_type": "markdown",
   "id": "df57ee78-c6e5-42b0-99bb-14c1524764b2",
   "metadata": {},
   "source": [
    "## What a the same analysis looks like in modern RDataFrame\n",
    "\n",
    "This case mixes Python (for organization) with C++ (for speed).\n",
    "\n",
    "<img src=\"img/rdataframe-flow.svg\" style=\"width: 800px\">"
   ]
  },
  {
   "cell_type": "code",
   "execution_count": null,
   "id": "323bbb86-ce99-47da-a8f3-4f1ad6f33e13",
   "metadata": {},
   "outputs": [],
   "source": [
    "df = ROOT.RDataFrame(\"Events\", \"root://eospublic.cern.ch//eos/opendata/cms/derived-data/AOD2NanoAODOutreachTool/Run2012BC_DoubleMuParked_Muons.root\")\n",
    "\n",
    "# Each node is connected to the previous, in a chain (which can split and recombine).\n",
    "df_limit = df.Range(100000)\n",
    "df_2mu = df_limit.Filter(\"nMuon >= 2\")\n",
    "df_os = df_2mu.Filter(\"Muon_charge[0] != Muon_charge[1]\")\n",
    "\n",
    "# This node is a big C++ block.\n",
    "df_mass = df_os.Define(\"Dimuon_mass\", '''\n",
    "float mu1_pt = Muon_pt[0];\n",
    "float mu2_pt = Muon_pt[1];\n",
    "float mu1_eta = Muon_eta[0];\n",
    "float mu2_eta = Muon_eta[1];\n",
    "float mu1_phi = Muon_phi[0];\n",
    "float mu2_phi = Muon_phi[1];\n",
    "return sqrt(2*mu1_pt*mu2_pt*(cosh(mu1_eta - mu2_eta) - cos(mu1_phi - mu2_phi)));\n",
    "''')\n",
    "\n",
    "# This one is an endpoint (action).\n",
    "h4 = df_mass.Histo1D((\"h3\", \"mass\", 120, 0, 120), \"Dimuon_mass\")"
   ]
  },
  {
   "cell_type": "markdown",
   "id": "244af2ce-e5fa-4d69-aa1f-90e0960ce539",
   "metadata": {},
   "source": [
    "The above just sets up the calculation (compiling the C++ strings). It runs when you evaluate `h4.Draw`."
   ]
  },
  {
   "cell_type": "code",
   "execution_count": null,
   "id": "11751fad-285b-455a-a3d4-45e024a239b2",
   "metadata": {},
   "outputs": [],
   "source": [
    "h4.Draw()   # <--- This is the line that computes everything.\n",
    "c1.SetLogy()\n",
    "c1.Draw()"
   ]
  },
  {
   "cell_type": "markdown",
   "id": "6729a12b-0437-4a3b-873c-c1dfead35d46",
   "metadata": {},
   "source": [
    "For more on RDataFrame, see [this tutorial](https://cms-opendata-workshop.github.io/workshop-lesson-root/05-rdataframe/index.html)."
   ]
  }
 ],
 "metadata": {
  "kernelspec": {
   "display_name": "Python 3",
   "language": "python",
   "name": "python3"
  },
  "language_info": {
   "codemirror_mode": {
    "name": "ipython",
    "version": 3
   },
   "file_extension": ".py",
   "mimetype": "text/x-python",
   "name": "python",
   "nbconvert_exporter": "python",
   "pygments_lexer": "ipython3",
   "version": "3.8.10"
  }
 },
 "nbformat": 4,
 "nbformat_minor": 5
}
