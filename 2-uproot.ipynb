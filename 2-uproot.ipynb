{
 "cells": [
  {
   "cell_type": "markdown",
   "id": "2d4444c8-b5cf-40eb-984c-2e37c971943b",
   "metadata": {},
   "source": [
    "# 2. Uproot"
   ]
  },
  {
   "cell_type": "markdown",
   "id": "8fb79b2b-1074-4ccb-9b10-7cc607cd8dee",
   "metadata": {},
   "source": [
    "<br><br><br><br><br>\n",
    "\n",
    "## What a ~complete analysis looks like in Uproot/Awkward Array\n",
    "\n",
    "Instead of starting with small steps, let's look at where this is going, what a sample analysis looks like with these tools."
   ]
  },
  {
   "cell_type": "code",
   "execution_count": null,
   "id": "73e240fe-2e64-4132-b7a8-617b57b11c7d",
   "metadata": {},
   "outputs": [],
   "source": [
    "import matplotlib.pyplot as plt\n",
    "import numpy as np\n",
    "import awkward as ak\n",
    "\n",
    "import uproot\n",
    "import hist"
   ]
  },
  {
   "cell_type": "code",
   "execution_count": null,
   "id": "002f8b6a-ae14-43be-bab7-1cebb3fc67c1",
   "metadata": {},
   "outputs": [],
   "source": [
    "upfile = uproot.open(\"root://eospublic.cern.ch//eos/opendata/cms/derived-data/AOD2NanoAODOutreachTool/Run2012BC_DoubleMuParked_Muons.root\")\n",
    "uptree = upfile[\"Events\"]\n",
    "uptree.show()"
   ]
  },
  {
   "cell_type": "markdown",
   "id": "fea3ab0f-371f-41eb-b561-f89c96d347f4",
   "metadata": {},
   "source": [
    "The general strategy is to get arrays in one function call (usually slow, has to read) and use them interactively afterward."
   ]
  },
  {
   "cell_type": "code",
   "execution_count": null,
   "id": "70b2a144-b6cb-4d30-bdd9-0cc56bce4379",
   "metadata": {},
   "outputs": [],
   "source": [
    "muons = uptree.arrays([\"Muon_pt\", \"Muon_eta\", \"Muon_phi\", \"Muon_charge\"], cut=\"nMuon >= 2\", how=\"zip\", entry_stop=100000)"
   ]
  },
  {
   "cell_type": "markdown",
   "id": "579fea6c-f7b6-4fcc-9a68-3adab807e3c7",
   "metadata": {},
   "source": [
    "We've already applied an `nMuon >= 2` cut, but we can define additional cuts."
   ]
  },
  {
   "cell_type": "code",
   "execution_count": null,
   "id": "ff2f64c9-bd11-4227-9ca7-c3c8f01e304d",
   "metadata": {},
   "outputs": [],
   "source": [
    "os_cut = muons[:, \"Muon\", \"charge\", 0] != muons[:, \"Muon\", \"charge\", 1]\n",
    "os_cut"
   ]
  },
  {
   "cell_type": "markdown",
   "id": "9806eaab-8cec-473d-8d5c-fd04e97a304f",
   "metadata": {},
   "source": [
    "Slicing (to be described in more detail later) can filter and reduce the structure of an array."
   ]
  },
  {
   "cell_type": "code",
   "execution_count": null,
   "id": "6e588fd2-3f61-43fd-9c69-f9c1a9efa5de",
   "metadata": {},
   "outputs": [],
   "source": [
    "mu1 = muons[os_cut, 0, \"Muon\"]\n",
    "mu2 = muons[os_cut, 1, \"Muon\"]\n",
    "mu1, mu2"
   ]
  },
  {
   "cell_type": "markdown",
   "id": "b58cfc7d-57ae-4107-826b-0fbe1bd93f9a",
   "metadata": {},
   "source": [
    "Make a histogram and fill it with a calculation from the array. The mini-plot is just the way this histogram type is visualized in Jupyter."
   ]
  },
  {
   "cell_type": "code",
   "execution_count": null,
   "id": "e3c16710-82ff-4ef5-b7f8-b2b70afad43e",
   "metadata": {},
   "outputs": [],
   "source": [
    "h1 = hist.Hist.new.Reg(120, 0, 120, name=\"mass\").Double()"
   ]
  },
  {
   "cell_type": "code",
   "execution_count": null,
   "id": "6bc993fc-4dcf-4b02-ad6c-9e265e3df60c",
   "metadata": {},
   "outputs": [],
   "source": [
    "h1.fill(np.sqrt(2*mu1.pt*mu2.pt*(np.cosh(mu1.eta - mu2.eta) - np.cos(mu1.phi - mu2.phi))))"
   ]
  },
  {
   "cell_type": "markdown",
   "id": "b712a638-69b4-4a3b-b6fc-9aeddea3d988",
   "metadata": {},
   "source": [
    "Plot it using Matplotlib (for logscale)."
   ]
  },
  {
   "cell_type": "code",
   "execution_count": null,
   "id": "2d3fde17-8acc-47e7-bc7e-c50ba80c7977",
   "metadata": {},
   "outputs": [],
   "source": [
    "h1.plot()\n",
    "plt.yscale(\"log\")"
   ]
  },
  {
   "cell_type": "markdown",
   "id": "4be99cf3-da49-4e95-8032-81e9325fda9b",
   "metadata": {},
   "source": [
    "<br><br><br><br><br>\n",
    "\n",
    "## What a the same analysis looks like in PyROOT"
   ]
  },
  {
   "cell_type": "code",
   "execution_count": null,
   "id": "8069076d-3892-4c71-9e9c-be81bc50794b",
   "metadata": {},
   "outputs": [],
   "source": [
    "import ROOT\n",
    "c1 = ROOT.TCanvas()"
   ]
  },
  {
   "cell_type": "code",
   "execution_count": null,
   "id": "93794a0b-3480-423c-abf0-b80517c46937",
   "metadata": {},
   "outputs": [],
   "source": [
    "rootfile = ROOT.TFile.Open(\"root://eospublic.cern.ch//eos/opendata/cms/derived-data/AOD2NanoAODOutreachTool/Run2012BC_DoubleMuParked_Muons.root\")\n",
    "roottree = rootfile.Get(\"Events\")"
   ]
  },
  {
   "cell_type": "markdown",
   "id": "c104115a-a9ef-488e-876f-ef5b3f9b139b",
   "metadata": {},
   "source": [
    "ROOT analyses (before RDataFrame; see below) are based on an event loop. Reading and calculations are done in the loop.\n",
    "\n",
    "This is not following the \"one weird trick.\" That's why it's slow."
   ]
  },
  {
   "cell_type": "code",
   "execution_count": null,
   "id": "ea1b97ea-48a2-48ff-a074-9e114f828640",
   "metadata": {},
   "outputs": [],
   "source": [
    "h2 = ROOT.TH1D(\"h2\", \"mass\", 120, 0, 120)\n",
    "\n",
    "for index, event in enumerate(roottree):\n",
    "    # Analyzing a subsample means breaking out of the loop early.\n",
    "    if index == 100000:\n",
    "        break\n",
    "    # Applying cuts means if-statements.\n",
    "    if event.nMuon >= 2 and event.Muon_charge[0] != event.Muon_charge[1]:\n",
    "        mu1_pt = event.Muon_pt[0]\n",
    "        mu2_pt = event.Muon_pt[1]\n",
    "        mu1_eta = event.Muon_eta[0]\n",
    "        mu2_eta = event.Muon_eta[1]\n",
    "        mu1_phi = event.Muon_phi[0]\n",
    "        mu2_phi = event.Muon_phi[1]\n",
    "        h2.Fill(np.sqrt(2*mu1_pt*mu2_pt*(np.cosh(mu1_eta - mu2_eta) - np.cos(mu1_phi - mu2_phi))))"
   ]
  },
  {
   "cell_type": "code",
   "execution_count": null,
   "id": "2b1dc8bb-58a1-4609-85c6-2ea6d051e7aa",
   "metadata": {},
   "outputs": [],
   "source": [
    "h2.Draw()\n",
    "c1.SetLogy()\n",
    "c1.Draw()"
   ]
  },
  {
   "cell_type": "markdown",
   "id": "8358a124-4b4a-488d-89a9-07431143cabc",
   "metadata": {},
   "source": [
    "<br><br><br><br><br>\n",
    "\n",
    "## What a the same analysis looks like in old C++\n",
    "\n",
    "By \"old C++,\" I mean `TTree::GetEntry`. This is also a reading + calculating loop over events.\n",
    "\n",
    "Use `ROOT.gInterpreter.Declare` to define a C++ function in Python that we can use through PyROOT."
   ]
  },
  {
   "cell_type": "code",
   "execution_count": null,
   "id": "5c28ca22-406b-422d-a980-055027f3c02a",
   "metadata": {},
   "outputs": [],
   "source": [
    "ROOT.gInterpreter.Declare('''\n",
    "void compute(TH1D& h3, TTree& roottree) {\n",
    "    UInt_t nMuon;\n",
    "    float Muon_pt[50];\n",
    "    float Muon_eta[50];\n",
    "    float Muon_phi[50];\n",
    "    int32_t Muon_charge[50];\n",
    "\n",
    "    roottree.SetBranchStatus(\"*\", 0);\n",
    "    roottree.SetBranchStatus(\"nMuon\", 1);\n",
    "    roottree.SetBranchStatus(\"Muon_pt\", 1);\n",
    "    roottree.SetBranchStatus(\"Muon_eta\", 1);\n",
    "    roottree.SetBranchStatus(\"Muon_phi\", 1);\n",
    "    roottree.SetBranchStatus(\"Muon_charge\", 1);\n",
    "\n",
    "    roottree.SetBranchAddress(\"nMuon\", &nMuon);\n",
    "    roottree.SetBranchAddress(\"Muon_pt\", Muon_pt);\n",
    "    roottree.SetBranchAddress(\"Muon_eta\", Muon_eta);\n",
    "    roottree.SetBranchAddress(\"Muon_phi\", Muon_phi);\n",
    "    roottree.SetBranchAddress(\"Muon_charge\", Muon_charge);\n",
    "    \n",
    "    for (int index = 0; index < 100000; index++) {\n",
    "        roottree.GetEntry(index);\n",
    "        if (nMuon >= 2 && Muon_charge[0] != Muon_charge[1]) {\n",
    "            float mu1_pt = Muon_pt[0];\n",
    "            float mu2_pt = Muon_pt[1];\n",
    "            float mu1_eta = Muon_eta[0];\n",
    "            float mu2_eta = Muon_eta[1];\n",
    "            float mu1_phi = Muon_phi[0];\n",
    "            float mu2_phi = Muon_phi[1];\n",
    "            h3.Fill(sqrt(2*mu1_pt*mu2_pt*(cosh(mu1_eta - mu2_eta) - cos(mu1_phi - mu2_phi))));\n",
    "        }\n",
    "    }\n",
    "}\n",
    "''')"
   ]
  },
  {
   "cell_type": "code",
   "execution_count": null,
   "id": "c91cb692-ff46-40c8-bbde-1562073ba00d",
   "metadata": {},
   "outputs": [],
   "source": [
    "rootfile = ROOT.TFile.Open(\"root://eospublic.cern.ch//eos/opendata/cms/derived-data/AOD2NanoAODOutreachTool/Run2012BC_DoubleMuParked_Muons.root\")\n",
    "roottree = rootfile.Get(\"Events\")\n",
    "\n",
    "h3 = ROOT.TH1D(\"h3\", \"mass\", 120, 0, 120)\n",
    "\n",
    "ROOT.compute(h3, roottree)"
   ]
  },
  {
   "cell_type": "code",
   "execution_count": null,
   "id": "15d58a70-bad4-4a61-b37b-5ceee648cc63",
   "metadata": {},
   "outputs": [],
   "source": [
    "h3.Draw()\n",
    "c1.SetLogy()\n",
    "c1.Draw()"
   ]
  },
  {
   "cell_type": "markdown",
   "id": "df57ee78-c6e5-42b0-99bb-14c1524764b2",
   "metadata": {},
   "source": [
    "<br><br><br><br><br>\n",
    "\n",
    "## What a the same analysis looks like in modern RDataFrame\n",
    "\n",
    "This case mixes Python (for organization) with C++ (for speed).\n",
    "\n",
    "<img src=\"img/rdataframe-flow.svg\" style=\"width: 800px\">"
   ]
  },
  {
   "cell_type": "code",
   "execution_count": null,
   "id": "323bbb86-ce99-47da-a8f3-4f1ad6f33e13",
   "metadata": {},
   "outputs": [],
   "source": [
    "df = ROOT.RDataFrame(\"Events\", \"root://eospublic.cern.ch//eos/opendata/cms/derived-data/AOD2NanoAODOutreachTool/Run2012BC_DoubleMuParked_Muons.root\")\n",
    "\n",
    "# Each node is connected to the previous, in a chain (which can split and recombine).\n",
    "df_limit = df.Range(100000)\n",
    "df_2mu = df_limit.Filter(\"nMuon >= 2\")\n",
    "df_os = df_2mu.Filter(\"Muon_charge[0] != Muon_charge[1]\")\n",
    "\n",
    "# This node is a big C++ block.\n",
    "df_mass = df_os.Define(\"Dimuon_mass\", '''\n",
    "float mu1_pt = Muon_pt[0];\n",
    "float mu2_pt = Muon_pt[1];\n",
    "float mu1_eta = Muon_eta[0];\n",
    "float mu2_eta = Muon_eta[1];\n",
    "float mu1_phi = Muon_phi[0];\n",
    "float mu2_phi = Muon_phi[1];\n",
    "return sqrt(2*mu1_pt*mu2_pt*(cosh(mu1_eta - mu2_eta) - cos(mu1_phi - mu2_phi)));\n",
    "''')\n",
    "\n",
    "# This one is an endpoint (action).\n",
    "h4 = df_mass.Histo1D((\"h3\", \"mass\", 120, 0, 120), \"Dimuon_mass\")"
   ]
  },
  {
   "cell_type": "markdown",
   "id": "244af2ce-e5fa-4d69-aa1f-90e0960ce539",
   "metadata": {},
   "source": [
    "The above just sets up the calculation (compiling the C++ strings). It runs when you evaluate `h4.Draw`."
   ]
  },
  {
   "cell_type": "code",
   "execution_count": null,
   "id": "11751fad-285b-455a-a3d4-45e024a239b2",
   "metadata": {},
   "outputs": [],
   "source": [
    "h4.Draw()   # <--- This is the line that computes everything.\n",
    "c1.SetLogy()\n",
    "c1.Draw()"
   ]
  },
  {
   "cell_type": "markdown",
   "id": "6729a12b-0437-4a3b-873c-c1dfead35d46",
   "metadata": {},
   "source": [
    "For more on RDataFrame, see [this tutorial](https://cms-opendata-workshop.github.io/workshop-lesson-root/05-rdataframe/index.html)."
   ]
  },
  {
   "cell_type": "markdown",
   "id": "2cb428fd-13c5-4c77-b441-36c9bb74d6be",
   "metadata": {},
   "source": [
    "<br><br><br><br><br>\n",
    "\n",
    "## Ways to get data from Uproot\n",
    "\n",
    "FIXME"
   ]
  }
 ],
 "metadata": {
  "kernelspec": {
   "display_name": "Python 3",
   "language": "python",
   "name": "python3"
  },
  "language_info": {
   "codemirror_mode": {
    "name": "ipython",
    "version": 3
   },
   "file_extension": ".py",
   "mimetype": "text/x-python",
   "name": "python",
   "nbconvert_exporter": "python",
   "pygments_lexer": "ipython3",
   "version": "3.8.10"
  }
 },
 "nbformat": 4,
 "nbformat_minor": 5
}
