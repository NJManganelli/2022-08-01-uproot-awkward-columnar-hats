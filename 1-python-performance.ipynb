{
 "cells": [
  {
   "cell_type": "markdown",
   "id": "7a0c0b4b-0354-4fb3-b335-38031206535b",
   "metadata": {},
   "source": [
    "# 1. Python performance\n",
    "\n",
    "HEP datasets are large and complex. "
   ]
  }
 ],
 "metadata": {
  "kernelspec": {
   "display_name": "Python 3",
   "language": "python",
   "name": "python3"
  },
  "language_info": {
   "codemirror_mode": {
    "name": "ipython",
    "version": 3
   },
   "file_extension": ".py",
   "mimetype": "text/x-python",
   "name": "python",
   "nbconvert_exporter": "python",
   "pygments_lexer": "ipython3",
   "version": "3.8.10"
  }
 },
 "nbformat": 4,
 "nbformat_minor": 5
}
