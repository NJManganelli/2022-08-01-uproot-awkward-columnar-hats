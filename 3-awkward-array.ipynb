{
 "cells": [
  {
   "cell_type": "markdown",
   "id": "ae14d3ce-0dc5-4a62-bed2-a0f75e72887c",
   "metadata": {},
   "source": [
    "# 3. Awkward Array"
   ]
  },
  {
   "cell_type": "markdown",
   "id": "55d53194-2a5f-4d99-93c5-8751e00adfed",
   "metadata": {},
   "source": [
    "<br><br><br><br><br>\n",
    "\n",
    "## What about an array of lists?"
   ]
  },
  {
   "cell_type": "code",
   "execution_count": 1,
   "id": "c8e59475-25c6-41b1-a37c-3553517b3a98",
   "metadata": {},
   "outputs": [],
   "source": [
    "import awkward as ak\n",
    "import numpy as np\n",
    "import uproot"
   ]
  },
  {
   "cell_type": "code",
   "execution_count": 4,
   "id": "b3a79fec-71a0-40fd-83c6-0c3369cf7597",
   "metadata": {},
   "outputs": [
    {
     "name": "stdout",
     "output_type": "stream",
     "text": [
      "name                 | typename                 | interpretation                \n",
      "---------------------+--------------------------+-------------------------------\n",
      "NJet                 | int32_t                  | AsDtype('>i4')\n",
      "Jet_Px               | float[]                  | AsJagged(AsDtype('>f4'))\n",
      "Jet_Py               | float[]                  | AsJagged(AsDtype('>f4'))\n",
      "Jet_Pz               | float[]                  | AsJagged(AsDtype('>f4'))\n",
      "Jet_E                | float[]                  | AsJagged(AsDtype('>f4'))\n",
      "Jet_btag             | float[]                  | AsJagged(AsDtype('>f4'))\n",
      "Jet_ID               | bool[]                   | AsJagged(AsDtype('bool'))\n",
      "NMuon                | int32_t                  | AsDtype('>i4')\n",
      "Muon_Px              | float[]                  | AsJagged(AsDtype('>f4'))\n",
      "Muon_Py              | float[]                  | AsJagged(AsDtype('>f4'))\n",
      "Muon_Pz              | float[]                  | AsJagged(AsDtype('>f4'))\n",
      "Muon_E               | float[]                  | AsJagged(AsDtype('>f4'))\n",
      "Muon_Charge          | int32_t[]                | AsJagged(AsDtype('>i4'))\n",
      "Muon_Iso             | float[]                  | AsJagged(AsDtype('>f4'))\n",
      "NElectron            | int32_t                  | AsDtype('>i4')\n",
      "Electron_Px          | float[]                  | AsJagged(AsDtype('>f4'))\n",
      "Electron_Py          | float[]                  | AsJagged(AsDtype('>f4'))\n",
      "Electron_Pz          | float[]                  | AsJagged(AsDtype('>f4'))\n",
      "Electron_E           | float[]                  | AsJagged(AsDtype('>f4'))\n",
      "Electron_Charge      | int32_t[]                | AsJagged(AsDtype('>i4'))\n",
      "Electron_Iso         | float[]                  | AsJagged(AsDtype('>f4'))\n",
      "NPhoton              | int32_t                  | AsDtype('>i4')\n",
      "Photon_Px            | float[]                  | AsJagged(AsDtype('>f4'))\n",
      "Photon_Py            | float[]                  | AsJagged(AsDtype('>f4'))\n",
      "Photon_Pz            | float[]                  | AsJagged(AsDtype('>f4'))\n",
      "Photon_E             | float[]                  | AsJagged(AsDtype('>f4'))\n",
      "Photon_Iso           | float[]                  | AsJagged(AsDtype('>f4'))\n",
      "MET_px               | float                    | AsDtype('>f4')\n",
      "MET_py               | float                    | AsDtype('>f4')\n",
      "MChadronicBottom_px  | float                    | AsDtype('>f4')\n",
      "MChadronicBottom_py  | float                    | AsDtype('>f4')\n",
      "MChadronicBottom_pz  | float                    | AsDtype('>f4')\n",
      "MCleptonicBottom_px  | float                    | AsDtype('>f4')\n",
      "MCleptonicBottom_py  | float                    | AsDtype('>f4')\n",
      "MCleptonicBottom_pz  | float                    | AsDtype('>f4')\n",
      "MChadronicWDecayQ... | float                    | AsDtype('>f4')\n",
      "MChadronicWDecayQ... | float                    | AsDtype('>f4')\n",
      "MChadronicWDecayQ... | float                    | AsDtype('>f4')\n",
      "MChadronicWDecayQ... | float                    | AsDtype('>f4')\n",
      "MChadronicWDecayQ... | float                    | AsDtype('>f4')\n",
      "MChadronicWDecayQ... | float                    | AsDtype('>f4')\n",
      "MClepton_px          | float                    | AsDtype('>f4')\n",
      "MClepton_py          | float                    | AsDtype('>f4')\n",
      "MClepton_pz          | float                    | AsDtype('>f4')\n",
      "MCleptonPDGid        | int32_t                  | AsDtype('>i4')\n",
      "MCneutrino_px        | float                    | AsDtype('>f4')\n",
      "MCneutrino_py        | float                    | AsDtype('>f4')\n",
      "MCneutrino_pz        | float                    | AsDtype('>f4')\n",
      "NPrimaryVertices     | int32_t                  | AsDtype('>i4')\n",
      "triggerIsoMu24       | bool                     | AsDtype('bool')\n",
      "EventWeight          | float                    | AsDtype('>f4')\n"
     ]
    }
   ],
   "source": [
    "events = uproot.open(\"data/HZZ.root:events\")\n",
    "events.show()"
   ]
  },
  {
   "cell_type": "code",
   "execution_count": 5,
   "id": "39208788-6a41-4afe-be49-9b42321a899f",
   "metadata": {},
   "outputs": [
    {
     "data": {
      "text/plain": [
       "<Array [[-52.9, 37.7], ... 1.14], [23.9]] type='2421 * var * float32'>"
      ]
     },
     "execution_count": 5,
     "metadata": {},
     "output_type": "execute_result"
    }
   ],
   "source": [
    "events[\"Muon_Px\"].array()"
   ]
  },
  {
   "cell_type": "code",
   "execution_count": 7,
   "id": "98d28d9b-96bd-4316-b26c-42f12db10614",
   "metadata": {},
   "outputs": [
    {
     "data": {
      "text/plain": [
       "[[-52.89945602416992, 37.7377815246582],\n",
       " [-0.8164593577384949],\n",
       " [48.987831115722656, 0.8275666832923889],\n",
       " [22.08833122253418, 76.6919174194336],\n",
       " [45.171321868896484, 39.75095748901367],\n",
       " [9.228110313415527, -5.793715000152588],\n",
       " [12.538717269897461, 29.541839599609375],\n",
       " [34.883758544921875],\n",
       " [-53.16697311401367, 11.491869926452637],\n",
       " [-67.01485443115234, -18.118755340576172],\n",
       " [15.983028411865234, 34.68440628051758],\n",
       " [-70.51190948486328, -38.028743743896484],\n",
       " [58.94381332397461],\n",
       " [-15.587870597839355],\n",
       " [-122.33011627197266, -1.0597527027130127],\n",
       " [-46.70415496826172, 39.020023345947266],\n",
       " [51.29465866088867, 17.45092010498047],\n",
       " [43.28120040893555],\n",
       " [-45.92393493652344, 22.549766540527344],\n",
       " [43.29360580444336, -33.28158187866211, -4.376191139221191]]"
      ]
     },
     "execution_count": 7,
     "metadata": {},
     "output_type": "execute_result"
    }
   ],
   "source": [
    "events[\"Muon_Px\"].array(entry_stop=20).tolist()"
   ]
  },
  {
   "cell_type": "markdown",
   "id": "e163f018-cd77-47eb-be1a-e90e8252a796",
   "metadata": {},
   "source": [
    "This is what Awkward Array was made for. NumPy's equivalent is cumbersome and inefficient."
   ]
  },
  {
   "cell_type": "code",
   "execution_count": 9,
   "id": "6a406416-f5b6-49aa-afb9-720446a8b990",
   "metadata": {},
   "outputs": [
    {
     "data": {
      "text/plain": [
       "array([array([-52.899456,  37.73778 ], dtype=float32),\n",
       "       array([-0.81645936], dtype=float32),\n",
       "       array([48.98783  ,  0.8275667], dtype=float32),\n",
       "       array([22.088331, 76.69192 ], dtype=float32),\n",
       "       array([45.17132 , 39.750957], dtype=float32),\n",
       "       array([ 9.22811 , -5.793715], dtype=float32),\n",
       "       array([12.538717, 29.54184 ], dtype=float32),\n",
       "       array([34.88376], dtype=float32),\n",
       "       array([-53.166973,  11.49187 ], dtype=float32),\n",
       "       array([-67.014854, -18.118755], dtype=float32),\n",
       "       array([15.983028, 34.684406], dtype=float32),\n",
       "       array([-70.51191 , -38.028744], dtype=float32),\n",
       "       array([58.943813], dtype=float32),\n",
       "       array([-15.587871], dtype=float32),\n",
       "       array([-122.33012  ,   -1.0597527], dtype=float32),\n",
       "       array([-46.704155,  39.020023], dtype=float32),\n",
       "       array([51.29466, 17.45092], dtype=float32),\n",
       "       array([43.2812], dtype=float32),\n",
       "       array([-45.923935,  22.549767], dtype=float32),\n",
       "       array([ 43.293606, -33.28158 ,  -4.376191], dtype=float32)],\n",
       "      dtype=object)"
      ]
     },
     "execution_count": 9,
     "metadata": {},
     "output_type": "execute_result"
    }
   ],
   "source": [
    "jagged_numpy = events[\"Muon_Px\"].array(entry_stop=20, library=\"np\")\n",
    "jagged_numpy"
   ]
  },
  {
   "cell_type": "markdown",
   "id": "0f6366b4-a61f-4b59-9574-ce2a203d6d39",
   "metadata": {},
   "source": [
    "What if I want the first item in each list as an array?"
   ]
  },
  {
   "cell_type": "code",
   "execution_count": 11,
   "id": "d93944f5-cdc2-4280-82a3-9bc4865e2f25",
   "metadata": {},
   "outputs": [
    {
     "data": {
      "text/plain": [
       "array([ -52.899456  ,   -0.81645936,   48.98783   ,   22.088331  ,\n",
       "         45.17132   ,    9.22811   ,   12.538717  ,   34.88376   ,\n",
       "        -53.166973  ,  -67.014854  ,   15.983028  ,  -70.51191   ,\n",
       "         58.943813  ,  -15.587871  , -122.33012   ,  -46.704155  ,\n",
       "         51.29466   ,   43.2812    ,  -45.923935  ,   43.293606  ],\n",
       "      dtype=float32)"
      ]
     },
     "execution_count": 11,
     "metadata": {},
     "output_type": "execute_result"
    }
   ],
   "source": [
    "np.array([x[0] for x in jagged_numpy])"
   ]
  },
  {
   "cell_type": "markdown",
   "id": "f611c7ac-aa33-4446-aea9-4dc1224e488a",
   "metadata": {},
   "source": [
    "This violates the rule from [1-python-performance.ipynb](1-python-performance.ipynb): don't iterate in Python."
   ]
  },
  {
   "cell_type": "code",
   "execution_count": 12,
   "id": "e8bb7a35-4a43-4956-ab78-613742726ae5",
   "metadata": {},
   "outputs": [
    {
     "data": {
      "text/plain": [
       "<Array [[-52.9, 37.7], ... 43.3, -33.3, -4.38]] type='20 * var * float32'>"
      ]
     },
     "execution_count": 12,
     "metadata": {},
     "output_type": "execute_result"
    }
   ],
   "source": [
    "jagged_awkward = events[\"Muon_Px\"].array(entry_stop=20, library=\"ak\")\n",
    "jagged_awkward"
   ]
  },
  {
   "cell_type": "code",
   "execution_count": 13,
   "id": "73d7617c-5951-448b-8202-77ee6ae4354b",
   "metadata": {},
   "outputs": [
    {
     "data": {
      "text/plain": [
       "<Array [-52.9, -0.816, 49, ... -45.9, 43.3] type='20 * float32'>"
      ]
     },
     "execution_count": 13,
     "metadata": {},
     "output_type": "execute_result"
    }
   ],
   "source": [
    "jagged_awkward[:, 0]"
   ]
  },
  {
   "cell_type": "markdown",
   "id": "ede0d789-769a-4e69-8483-63b0ef6e4d47",
   "metadata": {},
   "source": [
    "<br><br><br><br><br>\n",
    "\n",
    "### Jaggedness in Pandas\n",
    "\n",
    "It can be done by putting the distinction between events in the DataFrame index."
   ]
  },
  {
   "cell_type": "code",
   "execution_count": 16,
   "id": "b1dd3a93-74cd-4db6-a2ff-8b13ee0e34f2",
   "metadata": {},
   "outputs": [
    {
     "data": {
      "text/html": [
       "<div>\n",
       "<style scoped>\n",
       "    .dataframe tbody tr th:only-of-type {\n",
       "        vertical-align: middle;\n",
       "    }\n",
       "\n",
       "    .dataframe tbody tr th {\n",
       "        vertical-align: top;\n",
       "    }\n",
       "\n",
       "    .dataframe thead th {\n",
       "        text-align: right;\n",
       "    }\n",
       "</style>\n",
       "<table border=\"1\" class=\"dataframe\">\n",
       "  <thead>\n",
       "    <tr style=\"text-align: right;\">\n",
       "      <th></th>\n",
       "      <th></th>\n",
       "      <th>Muon_Px</th>\n",
       "      <th>Muon_Py</th>\n",
       "      <th>Muon_Pz</th>\n",
       "      <th>Muon_E</th>\n",
       "      <th>Muon_Charge</th>\n",
       "      <th>Muon_Iso</th>\n",
       "    </tr>\n",
       "    <tr>\n",
       "      <th>entry</th>\n",
       "      <th>subentry</th>\n",
       "      <th></th>\n",
       "      <th></th>\n",
       "      <th></th>\n",
       "      <th></th>\n",
       "      <th></th>\n",
       "      <th></th>\n",
       "    </tr>\n",
       "  </thead>\n",
       "  <tbody>\n",
       "    <tr>\n",
       "      <th rowspan=\"2\" valign=\"top\">0</th>\n",
       "      <th>0</th>\n",
       "      <td>-52.899456</td>\n",
       "      <td>-11.654672</td>\n",
       "      <td>-8.160793</td>\n",
       "      <td>54.779499</td>\n",
       "      <td>1</td>\n",
       "      <td>4.200153</td>\n",
       "    </tr>\n",
       "    <tr>\n",
       "      <th>1</th>\n",
       "      <td>37.737782</td>\n",
       "      <td>0.693474</td>\n",
       "      <td>-11.307582</td>\n",
       "      <td>39.401695</td>\n",
       "      <td>-1</td>\n",
       "      <td>2.151061</td>\n",
       "    </tr>\n",
       "    <tr>\n",
       "      <th>1</th>\n",
       "      <th>0</th>\n",
       "      <td>-0.816459</td>\n",
       "      <td>-24.404259</td>\n",
       "      <td>20.199968</td>\n",
       "      <td>31.690445</td>\n",
       "      <td>1</td>\n",
       "      <td>2.188047</td>\n",
       "    </tr>\n",
       "    <tr>\n",
       "      <th rowspan=\"2\" valign=\"top\">2</th>\n",
       "      <th>0</th>\n",
       "      <td>48.987831</td>\n",
       "      <td>-21.723139</td>\n",
       "      <td>11.168285</td>\n",
       "      <td>54.739788</td>\n",
       "      <td>1</td>\n",
       "      <td>1.412822</td>\n",
       "    </tr>\n",
       "    <tr>\n",
       "      <th>1</th>\n",
       "      <td>0.827567</td>\n",
       "      <td>29.800508</td>\n",
       "      <td>36.965191</td>\n",
       "      <td>47.488857</td>\n",
       "      <td>-1</td>\n",
       "      <td>3.383504</td>\n",
       "    </tr>\n",
       "    <tr>\n",
       "      <th>...</th>\n",
       "      <th>...</th>\n",
       "      <td>...</td>\n",
       "      <td>...</td>\n",
       "      <td>...</td>\n",
       "      <td>...</td>\n",
       "      <td>...</td>\n",
       "      <td>...</td>\n",
       "    </tr>\n",
       "    <tr>\n",
       "      <th>2416</th>\n",
       "      <th>0</th>\n",
       "      <td>-39.285824</td>\n",
       "      <td>-14.607491</td>\n",
       "      <td>61.715790</td>\n",
       "      <td>74.602982</td>\n",
       "      <td>-1</td>\n",
       "      <td>1.080880</td>\n",
       "    </tr>\n",
       "    <tr>\n",
       "      <th>2417</th>\n",
       "      <th>0</th>\n",
       "      <td>35.067146</td>\n",
       "      <td>-14.150043</td>\n",
       "      <td>160.817917</td>\n",
       "      <td>165.203949</td>\n",
       "      <td>-1</td>\n",
       "      <td>3.427752</td>\n",
       "    </tr>\n",
       "    <tr>\n",
       "      <th>2418</th>\n",
       "      <th>0</th>\n",
       "      <td>-29.756786</td>\n",
       "      <td>-15.303859</td>\n",
       "      <td>-52.663750</td>\n",
       "      <td>62.395161</td>\n",
       "      <td>-1</td>\n",
       "      <td>3.762945</td>\n",
       "    </tr>\n",
       "    <tr>\n",
       "      <th>2419</th>\n",
       "      <th>0</th>\n",
       "      <td>1.141870</td>\n",
       "      <td>63.609570</td>\n",
       "      <td>162.176315</td>\n",
       "      <td>174.208633</td>\n",
       "      <td>-1</td>\n",
       "      <td>0.550811</td>\n",
       "    </tr>\n",
       "    <tr>\n",
       "      <th>2420</th>\n",
       "      <th>0</th>\n",
       "      <td>23.913206</td>\n",
       "      <td>-35.665077</td>\n",
       "      <td>54.719437</td>\n",
       "      <td>69.556213</td>\n",
       "      <td>-1</td>\n",
       "      <td>0.000000</td>\n",
       "    </tr>\n",
       "  </tbody>\n",
       "</table>\n",
       "<p>3825 rows × 6 columns</p>\n",
       "</div>"
      ],
      "text/plain": [
       "                  Muon_Px    Muon_Py     Muon_Pz      Muon_E  Muon_Charge  \\\n",
       "entry subentry                                                              \n",
       "0     0        -52.899456 -11.654672   -8.160793   54.779499            1   \n",
       "      1         37.737782   0.693474  -11.307582   39.401695           -1   \n",
       "1     0         -0.816459 -24.404259   20.199968   31.690445            1   \n",
       "2     0         48.987831 -21.723139   11.168285   54.739788            1   \n",
       "      1          0.827567  29.800508   36.965191   47.488857           -1   \n",
       "...                   ...        ...         ...         ...          ...   \n",
       "2416  0        -39.285824 -14.607491   61.715790   74.602982           -1   \n",
       "2417  0         35.067146 -14.150043  160.817917  165.203949           -1   \n",
       "2418  0        -29.756786 -15.303859  -52.663750   62.395161           -1   \n",
       "2419  0          1.141870  63.609570  162.176315  174.208633           -1   \n",
       "2420  0         23.913206 -35.665077   54.719437   69.556213           -1   \n",
       "\n",
       "                Muon_Iso  \n",
       "entry subentry            \n",
       "0     0         4.200153  \n",
       "      1         2.151061  \n",
       "1     0         2.188047  \n",
       "2     0         1.412822  \n",
       "      1         3.383504  \n",
       "...                  ...  \n",
       "2416  0         1.080880  \n",
       "2417  0         3.427752  \n",
       "2418  0         3.762945  \n",
       "2419  0         0.550811  \n",
       "2420  0         0.000000  \n",
       "\n",
       "[3825 rows x 6 columns]"
      ]
     },
     "execution_count": 16,
     "metadata": {},
     "output_type": "execute_result"
    }
   ],
   "source": [
    "events.arrays(filter_name=\"Muon_*\", library=\"pd\")"
   ]
  },
  {
   "cell_type": "markdown",
   "id": "d5cef5ac-c0b7-40a4-b9ee-65cf5001ab27",
   "metadata": {},
   "source": [
    "But if you want multiple particles, they can't be in the same DataFrame.\n",
    "\n",
    "(A DataFrame has only one index; how would you relate jet subentry #1 with muon subentry #1?)"
   ]
  },
  {
   "cell_type": "code",
   "execution_count": 18,
   "id": "ffa314ca-00f2-435e-bff4-3ee22772f578",
   "metadata": {},
   "outputs": [],
   "source": [
    "dataframes = events.arrays(filter_name=\"/(Muon_|Jet_).*/\", library=\"pd\")"
   ]
  },
  {
   "cell_type": "code",
   "execution_count": 19,
   "id": "f7d986e5-bc1c-4bb8-a83c-61470589046f",
   "metadata": {},
   "outputs": [
    {
     "data": {
      "text/plain": [
       "2"
      ]
     },
     "execution_count": 19,
     "metadata": {},
     "output_type": "execute_result"
    }
   ],
   "source": [
    "len(dataframes)"
   ]
  },
  {
   "cell_type": "code",
   "execution_count": 20,
   "id": "1415debd-d11d-4eec-93c0-9d8777e61a40",
   "metadata": {},
   "outputs": [
    {
     "data": {
      "text/html": [
       "<div>\n",
       "<style scoped>\n",
       "    .dataframe tbody tr th:only-of-type {\n",
       "        vertical-align: middle;\n",
       "    }\n",
       "\n",
       "    .dataframe tbody tr th {\n",
       "        vertical-align: top;\n",
       "    }\n",
       "\n",
       "    .dataframe thead th {\n",
       "        text-align: right;\n",
       "    }\n",
       "</style>\n",
       "<table border=\"1\" class=\"dataframe\">\n",
       "  <thead>\n",
       "    <tr style=\"text-align: right;\">\n",
       "      <th></th>\n",
       "      <th></th>\n",
       "      <th>Jet_Px</th>\n",
       "      <th>Jet_Py</th>\n",
       "      <th>Jet_Pz</th>\n",
       "      <th>Jet_E</th>\n",
       "      <th>Jet_btag</th>\n",
       "      <th>Jet_ID</th>\n",
       "    </tr>\n",
       "    <tr>\n",
       "      <th>entry</th>\n",
       "      <th>subentry</th>\n",
       "      <th></th>\n",
       "      <th></th>\n",
       "      <th></th>\n",
       "      <th></th>\n",
       "      <th></th>\n",
       "      <th></th>\n",
       "    </tr>\n",
       "  </thead>\n",
       "  <tbody>\n",
       "    <tr>\n",
       "      <th>1</th>\n",
       "      <th>0</th>\n",
       "      <td>-38.874714</td>\n",
       "      <td>19.863453</td>\n",
       "      <td>-0.894942</td>\n",
       "      <td>44.137363</td>\n",
       "      <td>-1.0</td>\n",
       "      <td>True</td>\n",
       "    </tr>\n",
       "    <tr>\n",
       "      <th rowspan=\"3\" valign=\"top\">3</th>\n",
       "      <th>0</th>\n",
       "      <td>-71.695213</td>\n",
       "      <td>93.571579</td>\n",
       "      <td>196.296432</td>\n",
       "      <td>230.346008</td>\n",
       "      <td>-1.0</td>\n",
       "      <td>True</td>\n",
       "    </tr>\n",
       "    <tr>\n",
       "      <th>1</th>\n",
       "      <td>36.606369</td>\n",
       "      <td>21.838793</td>\n",
       "      <td>91.666283</td>\n",
       "      <td>101.358841</td>\n",
       "      <td>-1.0</td>\n",
       "      <td>True</td>\n",
       "    </tr>\n",
       "    <tr>\n",
       "      <th>2</th>\n",
       "      <td>-28.866419</td>\n",
       "      <td>9.320708</td>\n",
       "      <td>51.243221</td>\n",
       "      <td>60.084141</td>\n",
       "      <td>-1.0</td>\n",
       "      <td>True</td>\n",
       "    </tr>\n",
       "    <tr>\n",
       "      <th>4</th>\n",
       "      <th>0</th>\n",
       "      <td>3.880162</td>\n",
       "      <td>-75.234055</td>\n",
       "      <td>-359.601624</td>\n",
       "      <td>367.585480</td>\n",
       "      <td>-1.0</td>\n",
       "      <td>True</td>\n",
       "    </tr>\n",
       "    <tr>\n",
       "      <th>...</th>\n",
       "      <th>...</th>\n",
       "      <td>...</td>\n",
       "      <td>...</td>\n",
       "      <td>...</td>\n",
       "      <td>...</td>\n",
       "      <td>...</td>\n",
       "      <td>...</td>\n",
       "    </tr>\n",
       "    <tr>\n",
       "      <th rowspan=\"2\" valign=\"top\">2417</th>\n",
       "      <th>0</th>\n",
       "      <td>-33.196457</td>\n",
       "      <td>-59.664749</td>\n",
       "      <td>-29.040150</td>\n",
       "      <td>74.944725</td>\n",
       "      <td>-1.0</td>\n",
       "      <td>True</td>\n",
       "    </tr>\n",
       "    <tr>\n",
       "      <th>1</th>\n",
       "      <td>-26.086025</td>\n",
       "      <td>-19.068407</td>\n",
       "      <td>26.774284</td>\n",
       "      <td>42.481457</td>\n",
       "      <td>-1.0</td>\n",
       "      <td>True</td>\n",
       "    </tr>\n",
       "    <tr>\n",
       "      <th>2418</th>\n",
       "      <th>0</th>\n",
       "      <td>-3.714818</td>\n",
       "      <td>-37.202377</td>\n",
       "      <td>41.012222</td>\n",
       "      <td>55.950581</td>\n",
       "      <td>-1.0</td>\n",
       "      <td>True</td>\n",
       "    </tr>\n",
       "    <tr>\n",
       "      <th rowspan=\"2\" valign=\"top\">2419</th>\n",
       "      <th>0</th>\n",
       "      <td>-36.361286</td>\n",
       "      <td>10.173571</td>\n",
       "      <td>226.429214</td>\n",
       "      <td>229.577988</td>\n",
       "      <td>-1.0</td>\n",
       "      <td>True</td>\n",
       "    </tr>\n",
       "    <tr>\n",
       "      <th>1</th>\n",
       "      <td>-15.256871</td>\n",
       "      <td>-27.175364</td>\n",
       "      <td>12.119683</td>\n",
       "      <td>33.920349</td>\n",
       "      <td>-1.0</td>\n",
       "      <td>True</td>\n",
       "    </tr>\n",
       "  </tbody>\n",
       "</table>\n",
       "<p>2773 rows × 6 columns</p>\n",
       "</div>"
      ],
      "text/plain": [
       "                   Jet_Px     Jet_Py      Jet_Pz       Jet_E  Jet_btag  Jet_ID\n",
       "entry subentry                                                                \n",
       "1     0        -38.874714  19.863453   -0.894942   44.137363      -1.0    True\n",
       "3     0        -71.695213  93.571579  196.296432  230.346008      -1.0    True\n",
       "      1         36.606369  21.838793   91.666283  101.358841      -1.0    True\n",
       "      2        -28.866419   9.320708   51.243221   60.084141      -1.0    True\n",
       "4     0          3.880162 -75.234055 -359.601624  367.585480      -1.0    True\n",
       "...                   ...        ...         ...         ...       ...     ...\n",
       "2417  0        -33.196457 -59.664749  -29.040150   74.944725      -1.0    True\n",
       "      1        -26.086025 -19.068407   26.774284   42.481457      -1.0    True\n",
       "2418  0         -3.714818 -37.202377   41.012222   55.950581      -1.0    True\n",
       "2419  0        -36.361286  10.173571  226.429214  229.577988      -1.0    True\n",
       "      1        -15.256871 -27.175364   12.119683   33.920349      -1.0    True\n",
       "\n",
       "[2773 rows x 6 columns]"
      ]
     },
     "execution_count": 20,
     "metadata": {},
     "output_type": "execute_result"
    }
   ],
   "source": [
    "dataframes[0]"
   ]
  },
  {
   "cell_type": "code",
   "execution_count": 21,
   "id": "40094424-c024-40ec-9995-24196c802438",
   "metadata": {},
   "outputs": [
    {
     "data": {
      "text/html": [
       "<div>\n",
       "<style scoped>\n",
       "    .dataframe tbody tr th:only-of-type {\n",
       "        vertical-align: middle;\n",
       "    }\n",
       "\n",
       "    .dataframe tbody tr th {\n",
       "        vertical-align: top;\n",
       "    }\n",
       "\n",
       "    .dataframe thead th {\n",
       "        text-align: right;\n",
       "    }\n",
       "</style>\n",
       "<table border=\"1\" class=\"dataframe\">\n",
       "  <thead>\n",
       "    <tr style=\"text-align: right;\">\n",
       "      <th></th>\n",
       "      <th></th>\n",
       "      <th>Muon_Px</th>\n",
       "      <th>Muon_Py</th>\n",
       "      <th>Muon_Pz</th>\n",
       "      <th>Muon_E</th>\n",
       "      <th>Muon_Charge</th>\n",
       "      <th>Muon_Iso</th>\n",
       "    </tr>\n",
       "    <tr>\n",
       "      <th>entry</th>\n",
       "      <th>subentry</th>\n",
       "      <th></th>\n",
       "      <th></th>\n",
       "      <th></th>\n",
       "      <th></th>\n",
       "      <th></th>\n",
       "      <th></th>\n",
       "    </tr>\n",
       "  </thead>\n",
       "  <tbody>\n",
       "    <tr>\n",
       "      <th rowspan=\"2\" valign=\"top\">0</th>\n",
       "      <th>0</th>\n",
       "      <td>-52.899456</td>\n",
       "      <td>-11.654672</td>\n",
       "      <td>-8.160793</td>\n",
       "      <td>54.779499</td>\n",
       "      <td>1</td>\n",
       "      <td>4.200153</td>\n",
       "    </tr>\n",
       "    <tr>\n",
       "      <th>1</th>\n",
       "      <td>37.737782</td>\n",
       "      <td>0.693474</td>\n",
       "      <td>-11.307582</td>\n",
       "      <td>39.401695</td>\n",
       "      <td>-1</td>\n",
       "      <td>2.151061</td>\n",
       "    </tr>\n",
       "    <tr>\n",
       "      <th>1</th>\n",
       "      <th>0</th>\n",
       "      <td>-0.816459</td>\n",
       "      <td>-24.404259</td>\n",
       "      <td>20.199968</td>\n",
       "      <td>31.690445</td>\n",
       "      <td>1</td>\n",
       "      <td>2.188047</td>\n",
       "    </tr>\n",
       "    <tr>\n",
       "      <th rowspan=\"2\" valign=\"top\">2</th>\n",
       "      <th>0</th>\n",
       "      <td>48.987831</td>\n",
       "      <td>-21.723139</td>\n",
       "      <td>11.168285</td>\n",
       "      <td>54.739788</td>\n",
       "      <td>1</td>\n",
       "      <td>1.412822</td>\n",
       "    </tr>\n",
       "    <tr>\n",
       "      <th>1</th>\n",
       "      <td>0.827567</td>\n",
       "      <td>29.800508</td>\n",
       "      <td>36.965191</td>\n",
       "      <td>47.488857</td>\n",
       "      <td>-1</td>\n",
       "      <td>3.383504</td>\n",
       "    </tr>\n",
       "    <tr>\n",
       "      <th>...</th>\n",
       "      <th>...</th>\n",
       "      <td>...</td>\n",
       "      <td>...</td>\n",
       "      <td>...</td>\n",
       "      <td>...</td>\n",
       "      <td>...</td>\n",
       "      <td>...</td>\n",
       "    </tr>\n",
       "    <tr>\n",
       "      <th>2416</th>\n",
       "      <th>0</th>\n",
       "      <td>-39.285824</td>\n",
       "      <td>-14.607491</td>\n",
       "      <td>61.715790</td>\n",
       "      <td>74.602982</td>\n",
       "      <td>-1</td>\n",
       "      <td>1.080880</td>\n",
       "    </tr>\n",
       "    <tr>\n",
       "      <th>2417</th>\n",
       "      <th>0</th>\n",
       "      <td>35.067146</td>\n",
       "      <td>-14.150043</td>\n",
       "      <td>160.817917</td>\n",
       "      <td>165.203949</td>\n",
       "      <td>-1</td>\n",
       "      <td>3.427752</td>\n",
       "    </tr>\n",
       "    <tr>\n",
       "      <th>2418</th>\n",
       "      <th>0</th>\n",
       "      <td>-29.756786</td>\n",
       "      <td>-15.303859</td>\n",
       "      <td>-52.663750</td>\n",
       "      <td>62.395161</td>\n",
       "      <td>-1</td>\n",
       "      <td>3.762945</td>\n",
       "    </tr>\n",
       "    <tr>\n",
       "      <th>2419</th>\n",
       "      <th>0</th>\n",
       "      <td>1.141870</td>\n",
       "      <td>63.609570</td>\n",
       "      <td>162.176315</td>\n",
       "      <td>174.208633</td>\n",
       "      <td>-1</td>\n",
       "      <td>0.550811</td>\n",
       "    </tr>\n",
       "    <tr>\n",
       "      <th>2420</th>\n",
       "      <th>0</th>\n",
       "      <td>23.913206</td>\n",
       "      <td>-35.665077</td>\n",
       "      <td>54.719437</td>\n",
       "      <td>69.556213</td>\n",
       "      <td>-1</td>\n",
       "      <td>0.000000</td>\n",
       "    </tr>\n",
       "  </tbody>\n",
       "</table>\n",
       "<p>3825 rows × 6 columns</p>\n",
       "</div>"
      ],
      "text/plain": [
       "                  Muon_Px    Muon_Py     Muon_Pz      Muon_E  Muon_Charge  \\\n",
       "entry subentry                                                              \n",
       "0     0        -52.899456 -11.654672   -8.160793   54.779499            1   \n",
       "      1         37.737782   0.693474  -11.307582   39.401695           -1   \n",
       "1     0         -0.816459 -24.404259   20.199968   31.690445            1   \n",
       "2     0         48.987831 -21.723139   11.168285   54.739788            1   \n",
       "      1          0.827567  29.800508   36.965191   47.488857           -1   \n",
       "...                   ...        ...         ...         ...          ...   \n",
       "2416  0        -39.285824 -14.607491   61.715790   74.602982           -1   \n",
       "2417  0         35.067146 -14.150043  160.817917  165.203949           -1   \n",
       "2418  0        -29.756786 -15.303859  -52.663750   62.395161           -1   \n",
       "2419  0          1.141870  63.609570  162.176315  174.208633           -1   \n",
       "2420  0         23.913206 -35.665077   54.719437   69.556213           -1   \n",
       "\n",
       "                Muon_Iso  \n",
       "entry subentry            \n",
       "0     0         4.200153  \n",
       "      1         2.151061  \n",
       "1     0         2.188047  \n",
       "2     0         1.412822  \n",
       "      1         3.383504  \n",
       "...                  ...  \n",
       "2416  0         1.080880  \n",
       "2417  0         3.427752  \n",
       "2418  0         3.762945  \n",
       "2419  0         0.550811  \n",
       "2420  0         0.000000  \n",
       "\n",
       "[3825 rows x 6 columns]"
      ]
     },
     "execution_count": 21,
     "metadata": {},
     "output_type": "execute_result"
    }
   ],
   "source": [
    "dataframes[1]"
   ]
  },
  {
   "cell_type": "markdown",
   "id": "91bed99b-4a2d-4234-999d-a7575bb9aeb5",
   "metadata": {},
   "source": [
    "Again, that's why we have Awkward Array."
   ]
  },
  {
   "cell_type": "code",
   "execution_count": 24,
   "id": "cfb10799-a890-4175-b261-6d4bf5491d8d",
   "metadata": {},
   "outputs": [
    {
     "data": {
      "text/plain": [
       "<Array [{Jet: [], Muon: [, ... Iso: 0}]}] type='2421 * {\"Jet\": var * {\"Px\": floa...'>"
      ]
     },
     "execution_count": 24,
     "metadata": {},
     "output_type": "execute_result"
    }
   ],
   "source": [
    "array = events.arrays(filter_name=\"/(Muon_|Jet_).*/\", library=\"ak\", how=\"zip\")\n",
    "array"
   ]
  },
  {
   "cell_type": "code",
   "execution_count": 25,
   "id": "313d41a0-af04-4757-952c-8edd0760cd84",
   "metadata": {},
   "outputs": [
    {
     "data": {
      "text/plain": [
       "<Array [[], [{Px: -38.9, ... ID: True}], []] type='2421 * var * {\"Px\": float32, ...'>"
      ]
     },
     "execution_count": 25,
     "metadata": {},
     "output_type": "execute_result"
    }
   ],
   "source": [
    "array.Jet"
   ]
  },
  {
   "cell_type": "code",
   "execution_count": 26,
   "id": "231efbed-a89f-4c65-90d8-6079290667e3",
   "metadata": {},
   "outputs": [
    {
     "data": {
      "text/plain": [
       "<Array [[], [-38.9], ... [-36.4, -15.3], []] type='2421 * var * float32'>"
      ]
     },
     "execution_count": 26,
     "metadata": {},
     "output_type": "execute_result"
    }
   ],
   "source": [
    "array.Jet.Px"
   ]
  },
  {
   "cell_type": "code",
   "execution_count": 27,
   "id": "93cae795-5082-41eb-98ec-9e99a899f50c",
   "metadata": {},
   "outputs": [
    {
     "data": {
      "text/plain": [
       "<Array [[{Px: -52.9, Py: -11.7, ... Iso: 0}]] type='2421 * var * {\"Px\": float32,...'>"
      ]
     },
     "execution_count": 27,
     "metadata": {},
     "output_type": "execute_result"
    }
   ],
   "source": [
    "array.Muon"
   ]
  },
  {
   "cell_type": "code",
   "execution_count": 28,
   "id": "b9d3f14f-1587-48f3-b021-1f686ec43267",
   "metadata": {},
   "outputs": [
    {
     "data": {
      "text/plain": [
       "<Array [[-52.9, 37.7], ... 1.14], [23.9]] type='2421 * var * float32'>"
      ]
     },
     "execution_count": 28,
     "metadata": {},
     "output_type": "execute_result"
    }
   ],
   "source": [
    "array.Muon.Px"
   ]
  },
  {
   "cell_type": "code",
   "execution_count": 29,
   "id": "d6e828ce-f5e8-4ed0-b456-ff65cc638808",
   "metadata": {},
   "outputs": [
    {
     "data": {
      "text/plain": [
       "(<Array [0, 1, 0, 3, 2, 2, ... 0, 1, 2, 1, 2, 0] type='2421 * int64'>,\n",
       " <Array [2, 1, 2, 2, 2, 2, ... 2, 1, 1, 1, 1, 1] type='2421 * int64'>)"
      ]
     },
     "execution_count": 29,
     "metadata": {},
     "output_type": "execute_result"
    }
   ],
   "source": [
    "ak.num(array.Jet), ak.num(array.Muon)"
   ]
  },
  {
   "cell_type": "markdown",
   "id": "28b9f205-610c-4354-bde2-3c50bf009654",
   "metadata": {},
   "source": [
    "<br><br><br><br><br>\n",
    "\n",
    "## Awkward Array is a general-purpose library: NumPy-like idioms on JSON-like data\n",
    "\n",
    "<img src=\"img/pivarski-one-slide-summary.svg\" style=\"width: 70%\">"
   ]
  },
  {
   "cell_type": "code",
   "execution_count": null,
   "id": "c272052a-1a9e-4fe3-951b-db38a6cceb40",
   "metadata": {},
   "outputs": [],
   "source": []
  }
 ],
 "metadata": {
  "kernelspec": {
   "display_name": "Python 3",
   "language": "python",
   "name": "python3"
  },
  "language_info": {
   "codemirror_mode": {
    "name": "ipython",
    "version": 3
   },
   "file_extension": ".py",
   "mimetype": "text/x-python",
   "name": "python",
   "nbconvert_exporter": "python",
   "pygments_lexer": "ipython3",
   "version": "3.8.10"
  }
 },
 "nbformat": 4,
 "nbformat_minor": 5
}
